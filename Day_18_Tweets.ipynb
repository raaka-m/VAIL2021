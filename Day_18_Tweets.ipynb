{
  "nbformat": 4,
  "nbformat_minor": 0,
  "metadata": {
    "colab": {
      "name": "Day 18 - Tweets",
      "provenance": []
    },
    "kernelspec": {
      "name": "python3",
      "display_name": "Python 3"
    }
  },
  "cells": [
    {
      "cell_type": "code",
      "metadata": {
        "colab": {
          "base_uri": "https://localhost:8080/"
        },
        "id": "JgAQ3GcoJ4ll",
        "outputId": "924738ed-fe47-47d5-e15f-72dc9f40604a"
      },
      "source": [
        "# Basic packages\r\n",
        "import pandas as pd \r\n",
        "import numpy as np\r\n",
        "import re\r\n",
        "import collections\r\n",
        "import matplotlib.pyplot as plt\r\n",
        "from pathlib import Path\r\n",
        "# Packages for data preparation\r\n",
        "from sklearn.model_selection import train_test_split\r\n",
        "import nltk\r\n",
        "nltk.download('stopwords')\r\n",
        "from nltk.corpus import stopwords\r\n",
        "from keras.preprocessing.text import Tokenizer\r\n",
        "from keras.utils.np_utils import to_categorical\r\n",
        "from sklearn.preprocessing import LabelEncoder\r\n",
        "# Packages for modeling\r\n",
        "from keras import models\r\n",
        "from keras import layers\r\n",
        "from keras import regularizers\r\n",
        "NB_WORDS = 10000  # Parameter indicating the number of words we'll put in the dictionary\r\n",
        "NB_START_EPOCHS = 20  # Number of epochs we usually start to train with\r\n",
        "BATCH_SIZE = 512  # Size of the batches used in the mini-batch gradient descent\r\n",
        "MAX_LEN = 20  # Maximum number of words in a sequence"
      ],
      "execution_count": 16,
      "outputs": [
        {
          "output_type": "stream",
          "text": [
            "[nltk_data] Downloading package stopwords to /root/nltk_data...\n",
            "[nltk_data]   Unzipping corpora/stopwords.zip.\n"
          ],
          "name": "stdout"
        }
      ]
    },
    {
      "cell_type": "code",
      "metadata": {
        "id": "m2uvEy8nNYg1"
      },
      "source": [
        "def deep_model(model, X_train, y_train, X_valid, y_valid):\r\n",
        "    '''\r\n",
        "    Function to train a multi-class model. The number of epochs and \r\n",
        "    batch_size are set by the constants at the top of the\r\n",
        "    notebook. \r\n",
        "    \r\n",
        "    Parameters:\r\n",
        "        model : model with the chosen architecture\r\n",
        "        X_train : training features\r\n",
        "        y_train : training target\r\n",
        "        X_valid : validation features\r\n",
        "        Y_valid : validation target\r\n",
        "    Output:\r\n",
        "        model training history\r\n",
        "    '''\r\n",
        "    model.compile(optimizer='rmsprop'\r\n",
        "                  , loss='categorical_crossentropy'\r\n",
        "                  , metrics=['accuracy'])\r\n",
        "    \r\n",
        "    history = model.fit(X_train\r\n",
        "                       , y_train\r\n",
        "                       , epochs=NB_START_EPOCHS\r\n",
        "                       , batch_size=BATCH_SIZE\r\n",
        "                       , validation_data=(X_valid, y_valid)\r\n",
        "                       , verbose=0)\r\n",
        "    return history\r\n",
        "def eval_metric(model, history, metric_name):\r\n",
        "    '''\r\n",
        "    Function to evaluate a trained model on a chosen metric. \r\n",
        "    Training and validation metric are plotted in a\r\n",
        "    line chart for each epoch.\r\n",
        "    \r\n",
        "    Parameters:\r\n",
        "        history : model training history\r\n",
        "        metric_name : loss or accuracy\r\n",
        "    Output:\r\n",
        "        line chart with epochs of x-axis and metric on\r\n",
        "        y-axis\r\n",
        "    '''\r\n",
        "    metric = history.history[metric_name]\r\n",
        "    val_metric = history.history['val_' + metric_name]\r\n",
        "    e = range(1, NB_START_EPOCHS + 1)\r\n",
        "    plt.plot(e, metric, 'bo', label='Train ' + metric_name)\r\n",
        "    plt.plot(e, val_metric, 'b', label='Validation ' + metric_name)\r\n",
        "    plt.xlabel('Epoch number')\r\n",
        "    plt.ylabel(metric_name)\r\n",
        "    plt.title('Comparing training and validation ' + metric_name + ' for ' + model.name)\r\n",
        "    plt.legend()\r\n",
        "    plt.show()\r\n",
        "def test_model(model, X_train, y_train, X_test, y_test, epoch_stop):\r\n",
        "    '''\r\n",
        "    Function to test the model on new data after training it\r\n",
        "    on the full training data with the optimal number of epochs.\r\n",
        "    \r\n",
        "    Parameters:\r\n",
        "        model : trained model\r\n",
        "        X_train : training features\r\n",
        "        y_train : training target\r\n",
        "        X_test : test features\r\n",
        "        y_test : test target\r\n",
        "        epochs : optimal number of epochs\r\n",
        "    Output:\r\n",
        "        test accuracy and test loss\r\n",
        "    '''\r\n",
        "    model.fit(X_train\r\n",
        "              , y_train\r\n",
        "              , epochs=epoch_stop\r\n",
        "              , batch_size=BATCH_SIZE\r\n",
        "              , verbose=0)\r\n",
        "    results = model.evaluate(X_test, y_test)\r\n",
        "    print()\r\n",
        "    print('Test accuracy: {0:.2f}%'.format(results[1]*100))\r\n",
        "    return results\r\n",
        "    \r\n",
        "def remove_stopwords(input_text):\r\n",
        "    '''\r\n",
        "    Function to remove English stopwords from a Pandas Series.\r\n",
        "    \r\n",
        "    Parameters:\r\n",
        "        input_text : text to clean\r\n",
        "    Output:\r\n",
        "        cleaned Pandas Series \r\n",
        "    '''\r\n",
        "    stopwords_list = stopwords.words('english')\r\n",
        "    # Some words which might indicate a certain sentiment are kept via a whitelist\r\n",
        "    whitelist = [\"n't\", \"not\", \"no\"]\r\n",
        "    words = input_text.split() \r\n",
        "    clean_words = [word for word in words if (word not in stopwords_list or word in whitelist) and len(word) > 1] \r\n",
        "    return \" \".join(clean_words) \r\n",
        "    \r\n",
        "def remove_mentions(input_text):\r\n",
        "    '''\r\n",
        "    Function to remove mentions, preceded by @, in a Pandas Series\r\n",
        "    \r\n",
        "    Parameters:\r\n",
        "        input_text : text to clean\r\n",
        "    Output:\r\n",
        "        cleaned Pandas Series \r\n",
        "    '''\r\n",
        "    return re.sub(r'@\\w+', '', input_text)\r\n",
        "def compare_models_by_metric(model_1, model_2, model_hist_1, model_hist_2, metric):\r\n",
        "    '''\r\n",
        "    Function to compare a metric between two models \r\n",
        "    \r\n",
        "    Parameters:\r\n",
        "        model_hist_1 : training history of model 1\r\n",
        "        model_hist_2 : training history of model 2\r\n",
        "        metrix : metric to compare, loss, acc, val_loss or val_acc\r\n",
        "        \r\n",
        "    Output:\r\n",
        "        plot of metrics of both models\r\n",
        "    '''\r\n",
        "    metric_model_1 = model_hist_1.history[metric]\r\n",
        "    metric_model_2 = model_hist_2.history[metric]\r\n",
        "    e = range(1, NB_START_EPOCHS + 1)\r\n",
        "    \r\n",
        "    metrics_dict = {\r\n",
        "        'acc' : 'Training Accuracy',\r\n",
        "        'loss' : 'Training Loss',\r\n",
        "        'val_acc' : 'Validation accuracy',\r\n",
        "        'val_loss' : 'Validation loss'\r\n",
        "    }\r\n",
        "    \r\n",
        "    metric_label = metrics_dict[metric]\r\n",
        "    plt.plot(e, metric_model_1, 'bo', label=model_1.name)\r\n",
        "    plt.plot(e, metric_model_2, 'b', label=model_2.name)\r\n",
        "    plt.xlabel('Epoch number')\r\n",
        "    plt.ylabel(metric_label)\r\n",
        "    plt.title('Comparing ' + metric_label + ' between models')\r\n",
        "    plt.legend()\r\n",
        "    plt.show()\r\n",
        "    \r\n",
        "def optimal_epoch(model_hist):\r\n",
        "    '''\r\n",
        "    Function to return the epoch number where the validation loss is\r\n",
        "    at its minimum\r\n",
        "    \r\n",
        "    Parameters:\r\n",
        "        model_hist : training history of model\r\n",
        "    Output:\r\n",
        "        epoch number with minimum validation loss\r\n",
        "    '''\r\n",
        "    min_epoch = np.argmin(model_hist.history['val_loss']) + 1\r\n",
        "    print(\"Minimum validation loss reached in epoch {}\".format(min_epoch))\r\n",
        "    return min_epoch"
      ],
      "execution_count": 17,
      "outputs": []
    },
    {
      "cell_type": "code",
      "metadata": {
        "colab": {
          "resources": {
            "http://localhost:8080/nbextensions/google.colab/files.js": {
              "data": "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",
              "ok": true,
              "headers": [
                [
                  "content-type",
                  "application/javascript"
                ]
              ],
              "status": 200,
              "status_text": ""
            }
          },
          "base_uri": "https://localhost:8080/",
          "height": 73
        },
        "id": "i154S98gLiTd",
        "outputId": "ca126f5f-09d6-4b74-d732-0764dde887c5"
      },
      "source": [
        "from google.colab import files\r\n",
        "uploaded = files.upload()"
      ],
      "execution_count": 13,
      "outputs": [
        {
          "output_type": "display_data",
          "data": {
            "text/html": [
              "\n",
              "     <input type=\"file\" id=\"files-5d9b590a-2c8d-41fb-a1d4-3c5c60c6112f\" name=\"files[]\" multiple disabled\n",
              "        style=\"border:none\" />\n",
              "     <output id=\"result-5d9b590a-2c8d-41fb-a1d4-3c5c60c6112f\">\n",
              "      Upload widget is only available when the cell has been executed in the\n",
              "      current browser session. Please rerun this cell to enable.\n",
              "      </output>\n",
              "      <script src=\"/nbextensions/google.colab/files.js\"></script> "
            ],
            "text/plain": [
              "<IPython.core.display.HTML object>"
            ]
          },
          "metadata": {
            "tags": []
          }
        },
        {
          "output_type": "stream",
          "text": [
            "Saving Tweets.csv to Tweets (1).csv\n"
          ],
          "name": "stdout"
        }
      ]
    },
    {
      "cell_type": "code",
      "metadata": {
        "id": "rHgWwM7BLudn"
      },
      "source": [
        "# processing data\r\n",
        "df = pd.read_csv('Tweets.csv')\r\n",
        "df = df.reindex(np.random.permutation(df.index))  \r\n",
        "df = df[['text', 'airline_sentiment']]\r\n",
        "df.text = df.text.apply(remove_stopwords).apply(remove_mentions)"
      ],
      "execution_count": 18,
      "outputs": []
    },
    {
      "cell_type": "code",
      "metadata": {
        "colab": {
          "base_uri": "https://localhost:8080/",
          "height": 415
        },
        "id": "92_D-8CqKB6A",
        "outputId": "7c5d7732-2a5a-440e-f93c-6f6506429048"
      },
      "source": [
        "df"
      ],
      "execution_count": 19,
      "outputs": [
        {
          "output_type": "execute_result",
          "data": {
            "text/html": [
              "<div>\n",
              "<style scoped>\n",
              "    .dataframe tbody tr th:only-of-type {\n",
              "        vertical-align: middle;\n",
              "    }\n",
              "\n",
              "    .dataframe tbody tr th {\n",
              "        vertical-align: top;\n",
              "    }\n",
              "\n",
              "    .dataframe thead th {\n",
              "        text-align: right;\n",
              "    }\n",
              "</style>\n",
              "<table border=\"1\" class=\"dataframe\">\n",
              "  <thead>\n",
              "    <tr style=\"text-align: right;\">\n",
              "      <th></th>\n",
              "      <th>text</th>\n",
              "      <th>airline_sentiment</th>\n",
              "    </tr>\n",
              "  </thead>\n",
              "  <tbody>\n",
              "    <tr>\n",
              "      <th>6482</th>\n",
              "      <td>know one thing  would NEVER treat customers l...</td>\n",
              "      <td>negative</td>\n",
              "    </tr>\n",
              "    <tr>\n",
              "      <th>8967</th>\n",
              "      <td>one agents available speak?</td>\n",
              "      <td>negative</td>\n",
              "    </tr>\n",
              "    <tr>\n",
              "      <th>419</th>\n",
              "      <td>When VX use LGA slots instead today? Adding A...</td>\n",
              "      <td>negative</td>\n",
              "    </tr>\n",
              "    <tr>\n",
              "      <th>13411</th>\n",
              "      <td>fail see telling caller bag may take \"18 hour...</td>\n",
              "      <td>negative</td>\n",
              "    </tr>\n",
              "    <tr>\n",
              "      <th>10472</th>\n",
              "      <td>woohoo! He still flight happy hear they're ai...</td>\n",
              "      <td>positive</td>\n",
              "    </tr>\n",
              "    <tr>\n",
              "      <th>...</th>\n",
              "      <td>...</td>\n",
              "      <td>...</td>\n",
              "    </tr>\n",
              "    <tr>\n",
              "      <th>6900</th>\n",
              "      <td>that's not answer!</td>\n",
              "      <td>negative</td>\n",
              "    </tr>\n",
              "    <tr>\n",
              "      <th>5268</th>\n",
              "      <td>could put one Baltimore? http://t.co/vLCI2KV1IP</td>\n",
              "      <td>neutral</td>\n",
              "    </tr>\n",
              "    <tr>\n",
              "      <th>548</th>\n",
              "      <td>trying find loaner seat new used, used car se...</td>\n",
              "      <td>neutral</td>\n",
              "    </tr>\n",
              "    <tr>\n",
              "      <th>5155</th>\n",
              "      <td>Have cup coffee relax check New Deals Promoti...</td>\n",
              "      <td>neutral</td>\n",
              "    </tr>\n",
              "    <tr>\n",
              "      <th>3864</th>\n",
              "      <td>told lost...you guys know</td>\n",
              "      <td>negative</td>\n",
              "    </tr>\n",
              "  </tbody>\n",
              "</table>\n",
              "<p>14640 rows × 2 columns</p>\n",
              "</div>"
            ],
            "text/plain": [
              "                                                    text airline_sentiment\n",
              "6482    know one thing  would NEVER treat customers l...          negative\n",
              "8967                         one agents available speak?          negative\n",
              "419     When VX use LGA slots instead today? Adding A...          negative\n",
              "13411   fail see telling caller bag may take \"18 hour...          negative\n",
              "10472   woohoo! He still flight happy hear they're ai...          positive\n",
              "...                                                  ...               ...\n",
              "6900                                  that's not answer!          negative\n",
              "5268     could put one Baltimore? http://t.co/vLCI2KV1IP           neutral\n",
              "548     trying find loaner seat new used, used car se...           neutral\n",
              "5155    Have cup coffee relax check New Deals Promoti...           neutral\n",
              "3864                           told lost...you guys know          negative\n",
              "\n",
              "[14640 rows x 2 columns]"
            ]
          },
          "metadata": {
            "tags": []
          },
          "execution_count": 19
        }
      ]
    },
    {
      "cell_type": "code",
      "metadata": {
        "id": "7wvgct2sNkuf"
      },
      "source": [
        "# test train split\r\n",
        "X_train, X_test, y_train, y_test = train_test_split(df.text, df.airline_sentiment, test_size=0.1, random_state=37)"
      ],
      "execution_count": 21,
      "outputs": []
    },
    {
      "cell_type": "code",
      "metadata": {
        "id": "7dI0sY3xNqFL"
      },
      "source": [
        "# converting words to numbers (Tokenize for comptuer to process)\r\n",
        "tk = Tokenizer(num_words=NB_WORDS,\r\n",
        "               filters='!\"#$%&()*+,-./:;<=>?@[\\\\]^_`{\"}~\\t\\n',\r\n",
        "               lower=True,\r\n",
        "               char_level=False,\r\n",
        "               split=' ')\r\n",
        "tk.fit_on_texts(X_train)\r\n",
        "\r\n",
        "# after creating dictionary, we can test whether a word has appeared in a tweet or not\r\n",
        "X_train_oh = tk.texts_to_matrix(X_train, mode='binary')\r\n",
        "X_test_oh = tk.texts_to_matrix(X_test, mode='binary')"
      ],
      "execution_count": 22,
      "outputs": []
    },
    {
      "cell_type": "code",
      "metadata": {
        "id": "R0CAv0FzNsCv"
      },
      "source": [
        "# convert target class to binary class matrix (one hot encoding)\r\n",
        "le = LabelEncoder()\r\n",
        "y_train_le = le.fit_transform(y_train)\r\n",
        "y_test_le = le.transform(y_test)\r\n",
        "y_train_oh = to_categorical(y_train_le)\r\n",
        "y_test_oh = to_categorical(y_test_le)"
      ],
      "execution_count": 24,
      "outputs": []
    },
    {
      "cell_type": "code",
      "metadata": {
        "id": "g7rp0MbCNvMr"
      },
      "source": [
        "# create validation test (branch off of training data). you do this by splitting data again\r\n",
        "X_train_rest, X_valid, y_train_rest, y_valid = train_test_split(X_train_oh, y_train_oh, test_size=0.1, random_state=37)"
      ],
      "execution_count": 25,
      "outputs": []
    },
    {
      "cell_type": "code",
      "metadata": {
        "id": "_8vpvsoBNzYN"
      },
      "source": [
        "# start with overfitting model: too many layers\r\n",
        "base_model = models.Sequential()\r\n",
        "base_model.add(layers.Dense(64, activation='relu', input_shape=(NB_WORDS,)))\r\n",
        "base_model.add(layers.Dense(64, activation='relu'))\r\n",
        "base_model.add(layers.Dense(3, activation='softmax'))"
      ],
      "execution_count": 26,
      "outputs": []
    },
    {
      "cell_type": "code",
      "metadata": {
        "colab": {
          "base_uri": "https://localhost:8080/",
          "height": 313
        },
        "id": "vZ-M2dEFN4PK",
        "outputId": "a8604c20-3656-42f0-9082-1864c18c6442"
      },
      "source": [
        "# use categorical as loss function, softmax as final activation function\r\n",
        "base_history = deep_model(base_model, X_train_rest, y_train_rest, X_valid, y_valid)\r\n",
        "base_min = optimal_epoch(base_history)\r\n",
        "eval_metric(base_model, base_history, 'loss')"
      ],
      "execution_count": 27,
      "outputs": [
        {
          "output_type": "stream",
          "text": [
            "Minimum validation loss reached in epoch 3\n"
          ],
          "name": "stdout"
        },
        {
          "output_type": "display_data",
          "data": {
            "image/png": "[encoded data removed]",
            "text/plain": [
              "<Figure size 432x288 with 1 Axes>"
            ]
          },
          "metadata": {
            "tags": [],
            "needs_background": "light"
          }
        }
      ]
    },
    {
      "cell_type": "code",
      "metadata": {
        "colab": {
          "base_uri": "https://localhost:8080/"
        },
        "id": "kAsD4xg-OILC",
        "outputId": "1cde2f52-27fb-423f-e4d3-5e939615e751"
      },
      "source": [
        "# add L2 regularization\r\n",
        "reg_model = models.Sequential()\r\n",
        "reg_model.add(layers.Dense(64, kernel_regularizer=regularizers.l2(0.001), activation='relu', input_shape=(NB_WORDS,)))\r\n",
        "reg_model.add(layers.Dense(64, kernel_regularizer=regularizers.l2(0.001), activation='relu'))\r\n",
        "reg_model.add(layers.Dense(3, activation='softmax'))\r\n",
        "reg_history = deep_model(reg_model, X_train_rest, y_train_rest, X_valid, y_valid)\r\n",
        "reg_min = optimal_epoch(reg_history)"
      ],
      "execution_count": 28,
      "outputs": [
        {
          "output_type": "stream",
          "text": [
            "Minimum validation loss reached in epoch 5\n"
          ],
          "name": "stdout"
        }
      ]
    },
    {
      "cell_type": "code",
      "metadata": {
        "id": "nnLqsxEiOTuM",
        "outputId": "6398bc4e-cc1d-47c6-b6e0-7b4ea54d623f",
        "colab": {
          "base_uri": "https://localhost:8080/",
          "height": 295
        }
      },
      "source": [
        "eval_metric(reg_model, reg_history, 'loss')"
      ],
      "execution_count": 29,
      "outputs": [
        {
          "output_type": "display_data",
          "data": {
            "image/png": "[encoded data removed]",
            "text/plain": [
              "<Figure size 432x288 with 1 Axes>"
            ]
          },
          "metadata": {
            "tags": [],
            "needs_background": "light"
          }
        }
      ]
    }
  ]
}