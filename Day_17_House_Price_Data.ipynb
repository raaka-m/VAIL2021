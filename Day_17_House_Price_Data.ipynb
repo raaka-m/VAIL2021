{
  "nbformat": 4,
  "nbformat_minor": 0,
  "metadata": {
    "colab": {
      "name": "Day 17 - House Price Data",
      "provenance": [],
      "collapsed_sections": []
    },
    "kernelspec": {
      "name": "python3",
      "display_name": "Python 3"
    }
  },
  "cells": [
    {
      "cell_type": "code",
      "metadata": {
        "id": "lgktCvEbDnVr"
      },
      "source": [
        "import pandas as pd\r\n",
        "import tensorflow as tf\r\n"
      ],
      "execution_count": 32,
      "outputs": []
    },
    {
      "cell_type": "code",
      "metadata": {
        "colab": {
          "resources": {
            "http://localhost:8080/nbextensions/google.colab/files.js": {
              "data": "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",
              "ok": true,
              "headers": [
                [
                  "content-type",
                  "application/javascript"
                ]
              ],
              "status": 200,
              "status_text": ""
            }
          },
          "base_uri": "https://localhost:8080/",
          "height": 73
        },
        "id": "Q2cvOyqmD6hY",
        "outputId": "fb795f0a-d9e7-4556-aa2d-daa1f3c74466"
      },
      "source": [
        "from google.colab import files\r\n",
        "uploaded = files.upload()"
      ],
      "execution_count": 33,
      "outputs": [
        {
          "output_type": "display_data",
          "data": {
            "text/html": [
              "\n",
              "     <input type=\"file\" id=\"files-c1e2e678-82a3-47e6-8b5f-970658550640\" name=\"files[]\" multiple disabled\n",
              "        style=\"border:none\" />\n",
              "     <output id=\"result-c1e2e678-82a3-47e6-8b5f-970658550640\">\n",
              "      Upload widget is only available when the cell has been executed in the\n",
              "      current browser session. Please rerun this cell to enable.\n",
              "      </output>\n",
              "      <script src=\"/nbextensions/google.colab/files.js\"></script> "
            ],
            "text/plain": [
              "<IPython.core.display.HTML object>"
            ]
          },
          "metadata": {
            "tags": []
          }
        },
        {
          "output_type": "stream",
          "text": [
            "Saving housepricedata.csv to housepricedata (1).csv\n"
          ],
          "name": "stdout"
        }
      ]
    },
    {
      "cell_type": "code",
      "metadata": {
        "id": "RmMZCCcVEcf6"
      },
      "source": [
        "import io\r\n",
        "df = pd.read_csv(io.BytesIO(uploaded['housepricedata.csv']))"
      ],
      "execution_count": 34,
      "outputs": []
    },
    {
      "cell_type": "code",
      "metadata": {
        "id": "EhO4c6p4EgSk"
      },
      "source": [
        "df = pd.read_csv('housepricedata.csv')"
      ],
      "execution_count": 35,
      "outputs": []
    },
    {
      "cell_type": "code",
      "metadata": {
        "colab": {
          "base_uri": "https://localhost:8080/",
          "height": 415
        },
        "id": "BiPsWCbfElAY",
        "outputId": "b2c99511-b6ef-4c9a-e977-671c7bdbe592"
      },
      "source": [
        "df"
      ],
      "execution_count": 36,
      "outputs": [
        {
          "output_type": "execute_result",
          "data": {
            "text/html": [
              "<div>\n",
              "<style scoped>\n",
              "    .dataframe tbody tr th:only-of-type {\n",
              "        vertical-align: middle;\n",
              "    }\n",
              "\n",
              "    .dataframe tbody tr th {\n",
              "        vertical-align: top;\n",
              "    }\n",
              "\n",
              "    .dataframe thead th {\n",
              "        text-align: right;\n",
              "    }\n",
              "</style>\n",
              "<table border=\"1\" class=\"dataframe\">\n",
              "  <thead>\n",
              "    <tr style=\"text-align: right;\">\n",
              "      <th></th>\n",
              "      <th>LotArea</th>\n",
              "      <th>OverallQual</th>\n",
              "      <th>OverallCond</th>\n",
              "      <th>TotalBsmtSF</th>\n",
              "      <th>FullBath</th>\n",
              "      <th>HalfBath</th>\n",
              "      <th>BedroomAbvGr</th>\n",
              "      <th>TotRmsAbvGrd</th>\n",
              "      <th>Fireplaces</th>\n",
              "      <th>GarageArea</th>\n",
              "      <th>AboveMedianPrice</th>\n",
              "    </tr>\n",
              "  </thead>\n",
              "  <tbody>\n",
              "    <tr>\n",
              "      <th>0</th>\n",
              "      <td>8450</td>\n",
              "      <td>7</td>\n",
              "      <td>5</td>\n",
              "      <td>856</td>\n",
              "      <td>2</td>\n",
              "      <td>1</td>\n",
              "      <td>3</td>\n",
              "      <td>8</td>\n",
              "      <td>0</td>\n",
              "      <td>548</td>\n",
              "      <td>1</td>\n",
              "    </tr>\n",
              "    <tr>\n",
              "      <th>1</th>\n",
              "      <td>9600</td>\n",
              "      <td>6</td>\n",
              "      <td>8</td>\n",
              "      <td>1262</td>\n",
              "      <td>2</td>\n",
              "      <td>0</td>\n",
              "      <td>3</td>\n",
              "      <td>6</td>\n",
              "      <td>1</td>\n",
              "      <td>460</td>\n",
              "      <td>1</td>\n",
              "    </tr>\n",
              "    <tr>\n",
              "      <th>2</th>\n",
              "      <td>11250</td>\n",
              "      <td>7</td>\n",
              "      <td>5</td>\n",
              "      <td>920</td>\n",
              "      <td>2</td>\n",
              "      <td>1</td>\n",
              "      <td>3</td>\n",
              "      <td>6</td>\n",
              "      <td>1</td>\n",
              "      <td>608</td>\n",
              "      <td>1</td>\n",
              "    </tr>\n",
              "    <tr>\n",
              "      <th>3</th>\n",
              "      <td>9550</td>\n",
              "      <td>7</td>\n",
              "      <td>5</td>\n",
              "      <td>756</td>\n",
              "      <td>1</td>\n",
              "      <td>0</td>\n",
              "      <td>3</td>\n",
              "      <td>7</td>\n",
              "      <td>1</td>\n",
              "      <td>642</td>\n",
              "      <td>0</td>\n",
              "    </tr>\n",
              "    <tr>\n",
              "      <th>4</th>\n",
              "      <td>14260</td>\n",
              "      <td>8</td>\n",
              "      <td>5</td>\n",
              "      <td>1145</td>\n",
              "      <td>2</td>\n",
              "      <td>1</td>\n",
              "      <td>4</td>\n",
              "      <td>9</td>\n",
              "      <td>1</td>\n",
              "      <td>836</td>\n",
              "      <td>1</td>\n",
              "    </tr>\n",
              "    <tr>\n",
              "      <th>...</th>\n",
              "      <td>...</td>\n",
              "      <td>...</td>\n",
              "      <td>...</td>\n",
              "      <td>...</td>\n",
              "      <td>...</td>\n",
              "      <td>...</td>\n",
              "      <td>...</td>\n",
              "      <td>...</td>\n",
              "      <td>...</td>\n",
              "      <td>...</td>\n",
              "      <td>...</td>\n",
              "    </tr>\n",
              "    <tr>\n",
              "      <th>1455</th>\n",
              "      <td>7917</td>\n",
              "      <td>6</td>\n",
              "      <td>5</td>\n",
              "      <td>953</td>\n",
              "      <td>2</td>\n",
              "      <td>1</td>\n",
              "      <td>3</td>\n",
              "      <td>7</td>\n",
              "      <td>1</td>\n",
              "      <td>460</td>\n",
              "      <td>1</td>\n",
              "    </tr>\n",
              "    <tr>\n",
              "      <th>1456</th>\n",
              "      <td>13175</td>\n",
              "      <td>6</td>\n",
              "      <td>6</td>\n",
              "      <td>1542</td>\n",
              "      <td>2</td>\n",
              "      <td>0</td>\n",
              "      <td>3</td>\n",
              "      <td>7</td>\n",
              "      <td>2</td>\n",
              "      <td>500</td>\n",
              "      <td>1</td>\n",
              "    </tr>\n",
              "    <tr>\n",
              "      <th>1457</th>\n",
              "      <td>9042</td>\n",
              "      <td>7</td>\n",
              "      <td>9</td>\n",
              "      <td>1152</td>\n",
              "      <td>2</td>\n",
              "      <td>0</td>\n",
              "      <td>4</td>\n",
              "      <td>9</td>\n",
              "      <td>2</td>\n",
              "      <td>252</td>\n",
              "      <td>1</td>\n",
              "    </tr>\n",
              "    <tr>\n",
              "      <th>1458</th>\n",
              "      <td>9717</td>\n",
              "      <td>5</td>\n",
              "      <td>6</td>\n",
              "      <td>1078</td>\n",
              "      <td>1</td>\n",
              "      <td>0</td>\n",
              "      <td>2</td>\n",
              "      <td>5</td>\n",
              "      <td>0</td>\n",
              "      <td>240</td>\n",
              "      <td>0</td>\n",
              "    </tr>\n",
              "    <tr>\n",
              "      <th>1459</th>\n",
              "      <td>9937</td>\n",
              "      <td>5</td>\n",
              "      <td>6</td>\n",
              "      <td>1256</td>\n",
              "      <td>1</td>\n",
              "      <td>1</td>\n",
              "      <td>3</td>\n",
              "      <td>6</td>\n",
              "      <td>0</td>\n",
              "      <td>276</td>\n",
              "      <td>0</td>\n",
              "    </tr>\n",
              "  </tbody>\n",
              "</table>\n",
              "<p>1460 rows × 11 columns</p>\n",
              "</div>"
            ],
            "text/plain": [
              "      LotArea  OverallQual  ...  GarageArea  AboveMedianPrice\n",
              "0        8450            7  ...         548                 1\n",
              "1        9600            6  ...         460                 1\n",
              "2       11250            7  ...         608                 1\n",
              "3        9550            7  ...         642                 0\n",
              "4       14260            8  ...         836                 1\n",
              "...       ...          ...  ...         ...               ...\n",
              "1455     7917            6  ...         460                 1\n",
              "1456    13175            6  ...         500                 1\n",
              "1457     9042            7  ...         252                 1\n",
              "1458     9717            5  ...         240                 0\n",
              "1459     9937            5  ...         276                 0\n",
              "\n",
              "[1460 rows x 11 columns]"
            ]
          },
          "metadata": {
            "tags": []
          },
          "execution_count": 36
        }
      ]
    },
    {
      "cell_type": "code",
      "metadata": {
        "id": "3DWaYkKbEptG"
      },
      "source": [
        "dataset = df.values"
      ],
      "execution_count": 37,
      "outputs": []
    },
    {
      "cell_type": "code",
      "metadata": {
        "colab": {
          "base_uri": "https://localhost:8080/"
        },
        "id": "1JOTiEkSEtBp",
        "outputId": "10bf1850-9e74-4729-d925-8d892dfcfb3f"
      },
      "source": [
        "dataset"
      ],
      "execution_count": 38,
      "outputs": [
        {
          "output_type": "execute_result",
          "data": {
            "text/plain": [
              "array([[ 8450,     7,     5, ...,     0,   548,     1],\n",
              "       [ 9600,     6,     8, ...,     1,   460,     1],\n",
              "       [11250,     7,     5, ...,     1,   608,     1],\n",
              "       ...,\n",
              "       [ 9042,     7,     9, ...,     2,   252,     1],\n",
              "       [ 9717,     5,     6, ...,     0,   240,     0],\n",
              "       [ 9937,     5,     6, ...,     0,   276,     0]])"
            ]
          },
          "metadata": {
            "tags": []
          },
          "execution_count": 38
        }
      ]
    },
    {
      "cell_type": "code",
      "metadata": {
        "id": "3H1ALHizEvJE"
      },
      "source": [
        "X = dataset[:,0:10]"
      ],
      "execution_count": 39,
      "outputs": []
    },
    {
      "cell_type": "code",
      "metadata": {
        "id": "8zBjNTHoExz6"
      },
      "source": [
        "Y = dataset[:,10]"
      ],
      "execution_count": 40,
      "outputs": []
    },
    {
      "cell_type": "code",
      "metadata": {
        "id": "vELmkAzRE1xV"
      },
      "source": [
        "from sklearn import preprocessing"
      ],
      "execution_count": 41,
      "outputs": []
    },
    {
      "cell_type": "code",
      "metadata": {
        "id": "BgGYcALWE4fy"
      },
      "source": [
        "min_max_scaler = preprocessing.MinMaxScaler()\r\n",
        "X_scale = min_max_scaler.fit_transform(X)"
      ],
      "execution_count": 42,
      "outputs": []
    },
    {
      "cell_type": "code",
      "metadata": {
        "colab": {
          "base_uri": "https://localhost:8080/"
        },
        "id": "QoaQoug8E699",
        "outputId": "d99920f5-1ecf-4647-c8ff-bce55150c207"
      },
      "source": [
        "X_scale"
      ],
      "execution_count": 43,
      "outputs": [
        {
          "output_type": "execute_result",
          "data": {
            "text/plain": [
              "array([[0.0334198 , 0.66666667, 0.5       , ..., 0.5       , 0.        ,\n",
              "        0.3864598 ],\n",
              "       [0.03879502, 0.55555556, 0.875     , ..., 0.33333333, 0.33333333,\n",
              "        0.32440056],\n",
              "       [0.04650728, 0.66666667, 0.5       , ..., 0.33333333, 0.33333333,\n",
              "        0.42877292],\n",
              "       ...,\n",
              "       [0.03618687, 0.66666667, 1.        , ..., 0.58333333, 0.66666667,\n",
              "        0.17771509],\n",
              "       [0.03934189, 0.44444444, 0.625     , ..., 0.25      , 0.        ,\n",
              "        0.16925247],\n",
              "       [0.04037019, 0.44444444, 0.625     , ..., 0.33333333, 0.        ,\n",
              "        0.19464034]])"
            ]
          },
          "metadata": {
            "tags": []
          },
          "execution_count": 43
        }
      ]
    },
    {
      "cell_type": "code",
      "metadata": {
        "id": "pt_AruBME96S"
      },
      "source": [
        "from sklearn.model_selection import train_test_split"
      ],
      "execution_count": 44,
      "outputs": []
    },
    {
      "cell_type": "code",
      "metadata": {
        "id": "SqpoG8zEFBaz"
      },
      "source": [
        "X_train, X_val_and_test, Y_train, Y_val_and_test = train_test_split(X_scale, Y, test_size=0.3)"
      ],
      "execution_count": 45,
      "outputs": []
    },
    {
      "cell_type": "code",
      "metadata": {
        "id": "bUb5-sn0FE3x"
      },
      "source": [
        "X_val, X_test, Y_val, Y_test = train_test_split(X_val_and_test, Y_val_and_test, test_size=0.5)"
      ],
      "execution_count": 46,
      "outputs": []
    },
    {
      "cell_type": "code",
      "metadata": {
        "colab": {
          "base_uri": "https://localhost:8080/"
        },
        "id": "tSVq3_FRFHil",
        "outputId": "aca2a644-ad89-4a1a-b390-545acbe5abe1"
      },
      "source": [
        "print(X_train.shape, X_val.shape, X_test.shape, Y_train.shape, Y_val.shape, Y_test.shape)"
      ],
      "execution_count": 47,
      "outputs": [
        {
          "output_type": "stream",
          "text": [
            "(1022, 10) (219, 10) (219, 10) (1022,) (219,) (219,)\n"
          ],
          "name": "stdout"
        }
      ]
    },
    {
      "cell_type": "code",
      "metadata": {
        "id": "eOIAaOecFJGl"
      },
      "source": [
        "from keras.models import Sequential\r\n",
        "from keras.layers import Dense"
      ],
      "execution_count": 48,
      "outputs": []
    },
    {
      "cell_type": "code",
      "metadata": {
        "id": "jcPDyA2zFNAv"
      },
      "source": [
        "model = Sequential([\r\n",
        "    Dense(32, activation='relu', input_shape=(10,)),\r\n",
        "    Dense(32, activation='relu'),\r\n",
        "    Dense(1, activation='sigmoid'),\r\n",
        "])"
      ],
      "execution_count": 49,
      "outputs": []
    },
    {
      "cell_type": "code",
      "metadata": {
        "id": "UHhpYNDdFPPm"
      },
      "source": [
        "model.compile(optimizer='sgd',\r\n",
        "              loss='binary_crossentropy',\r\n",
        "              metrics=['mse'])"
      ],
      "execution_count": 50,
      "outputs": []
    },
    {
      "cell_type": "code",
      "metadata": {
        "colab": {
          "base_uri": "https://localhost:8080/"
        },
        "id": "EzB_WskYFSGb",
        "outputId": "34a3aae5-4b47-400b-aacb-b27d14f40204"
      },
      "source": [
        "hist = model.fit(X_train, Y_train,\r\n",
        "          batch_size=32, epochs=100,\r\n",
        "          validation_data=(X_val, Y_val))"
      ],
      "execution_count": 51,
      "outputs": [
        {
          "output_type": "stream",
          "text": [
            "Epoch 1/100\n",
            "32/32 [==============================] - 1s 6ms/step - loss: 0.6881 - mse: 0.2475 - val_loss: 0.6842 - val_mse: 0.2455\n",
            "Epoch 2/100\n",
            "32/32 [==============================] - 0s 2ms/step - loss: 0.6826 - mse: 0.2447 - val_loss: 0.6794 - val_mse: 0.2431\n",
            "Epoch 3/100\n",
            "32/32 [==============================] - 0s 2ms/step - loss: 0.6783 - mse: 0.2426 - val_loss: 0.6748 - val_mse: 0.2408\n",
            "Epoch 4/100\n",
            "32/32 [==============================] - 0s 2ms/step - loss: 0.6740 - mse: 0.2405 - val_loss: 0.6702 - val_mse: 0.2385\n",
            "Epoch 5/100\n",
            "32/32 [==============================] - 0s 2ms/step - loss: 0.6723 - mse: 0.2396 - val_loss: 0.6661 - val_mse: 0.2365\n",
            "Epoch 6/100\n",
            "32/32 [==============================] - 0s 2ms/step - loss: 0.6663 - mse: 0.2366 - val_loss: 0.6623 - val_mse: 0.2346\n",
            "Epoch 7/100\n",
            "32/32 [==============================] - 0s 2ms/step - loss: 0.6620 - mse: 0.2344 - val_loss: 0.6585 - val_mse: 0.2327\n",
            "Epoch 8/100\n",
            "32/32 [==============================] - 0s 2ms/step - loss: 0.6604 - mse: 0.2337 - val_loss: 0.6545 - val_mse: 0.2307\n",
            "Epoch 9/100\n",
            "32/32 [==============================] - 0s 2ms/step - loss: 0.6561 - mse: 0.2315 - val_loss: 0.6503 - val_mse: 0.2286\n",
            "Epoch 10/100\n",
            "32/32 [==============================] - 0s 2ms/step - loss: 0.6543 - mse: 0.2306 - val_loss: 0.6457 - val_mse: 0.2263\n",
            "Epoch 11/100\n",
            "32/32 [==============================] - 0s 3ms/step - loss: 0.6458 - mse: 0.2264 - val_loss: 0.6409 - val_mse: 0.2240\n",
            "Epoch 12/100\n",
            "32/32 [==============================] - 0s 3ms/step - loss: 0.6476 - mse: 0.2273 - val_loss: 0.6359 - val_mse: 0.2215\n",
            "Epoch 13/100\n",
            "32/32 [==============================] - 0s 3ms/step - loss: 0.6390 - mse: 0.2230 - val_loss: 0.6307 - val_mse: 0.2189\n",
            "Epoch 14/100\n",
            "32/32 [==============================] - 0s 3ms/step - loss: 0.6393 - mse: 0.2232 - val_loss: 0.6253 - val_mse: 0.2162\n",
            "Epoch 15/100\n",
            "32/32 [==============================] - 0s 3ms/step - loss: 0.6264 - mse: 0.2168 - val_loss: 0.6196 - val_mse: 0.2135\n",
            "Epoch 16/100\n",
            "32/32 [==============================] - 0s 3ms/step - loss: 0.6264 - mse: 0.2168 - val_loss: 0.6136 - val_mse: 0.2105\n",
            "Epoch 17/100\n",
            "32/32 [==============================] - 0s 3ms/step - loss: 0.6192 - mse: 0.2133 - val_loss: 0.6073 - val_mse: 0.2074\n",
            "Epoch 18/100\n",
            "32/32 [==============================] - 0s 3ms/step - loss: 0.6097 - mse: 0.2087 - val_loss: 0.6006 - val_mse: 0.2042\n",
            "Epoch 19/100\n",
            "32/32 [==============================] - 0s 3ms/step - loss: 0.6079 - mse: 0.2079 - val_loss: 0.5935 - val_mse: 0.2007\n",
            "Epoch 20/100\n",
            "32/32 [==============================] - 0s 3ms/step - loss: 0.5958 - mse: 0.2020 - val_loss: 0.5860 - val_mse: 0.1971\n",
            "Epoch 21/100\n",
            "32/32 [==============================] - 0s 3ms/step - loss: 0.5871 - mse: 0.1978 - val_loss: 0.5780 - val_mse: 0.1933\n",
            "Epoch 22/100\n",
            "32/32 [==============================] - 0s 3ms/step - loss: 0.5799 - mse: 0.1943 - val_loss: 0.5695 - val_mse: 0.1892\n",
            "Epoch 23/100\n",
            "32/32 [==============================] - 0s 3ms/step - loss: 0.5691 - mse: 0.1892 - val_loss: 0.5607 - val_mse: 0.1851\n",
            "Epoch 24/100\n",
            "32/32 [==============================] - 0s 3ms/step - loss: 0.5715 - mse: 0.1905 - val_loss: 0.5516 - val_mse: 0.1809\n",
            "Epoch 25/100\n",
            "32/32 [==============================] - 0s 3ms/step - loss: 0.5597 - mse: 0.1851 - val_loss: 0.5423 - val_mse: 0.1765\n",
            "Epoch 26/100\n",
            "32/32 [==============================] - 0s 3ms/step - loss: 0.5487 - mse: 0.1799 - val_loss: 0.5326 - val_mse: 0.1721\n",
            "Epoch 27/100\n",
            "32/32 [==============================] - 0s 3ms/step - loss: 0.5365 - mse: 0.1743 - val_loss: 0.5227 - val_mse: 0.1676\n",
            "Epoch 28/100\n",
            "32/32 [==============================] - 0s 3ms/step - loss: 0.5326 - mse: 0.1727 - val_loss: 0.5126 - val_mse: 0.1631\n",
            "Epoch 29/100\n",
            "32/32 [==============================] - 0s 3ms/step - loss: 0.5286 - mse: 0.1711 - val_loss: 0.5026 - val_mse: 0.1586\n",
            "Epoch 30/100\n",
            "32/32 [==============================] - 0s 3ms/step - loss: 0.5168 - mse: 0.1659 - val_loss: 0.4929 - val_mse: 0.1544\n",
            "Epoch 31/100\n",
            "32/32 [==============================] - 0s 3ms/step - loss: 0.4932 - mse: 0.1554 - val_loss: 0.4829 - val_mse: 0.1501\n",
            "Epoch 32/100\n",
            "32/32 [==============================] - 0s 3ms/step - loss: 0.4939 - mse: 0.1559 - val_loss: 0.4734 - val_mse: 0.1461\n",
            "Epoch 33/100\n",
            "32/32 [==============================] - 0s 2ms/step - loss: 0.4810 - mse: 0.1506 - val_loss: 0.4636 - val_mse: 0.1420\n",
            "Epoch 34/100\n",
            "32/32 [==============================] - 0s 2ms/step - loss: 0.4737 - mse: 0.1478 - val_loss: 0.4543 - val_mse: 0.1382\n",
            "Epoch 35/100\n",
            "32/32 [==============================] - 0s 2ms/step - loss: 0.4806 - mse: 0.1515 - val_loss: 0.4454 - val_mse: 0.1346\n",
            "Epoch 36/100\n",
            "32/32 [==============================] - 0s 2ms/step - loss: 0.4611 - mse: 0.1432 - val_loss: 0.4366 - val_mse: 0.1311\n",
            "Epoch 37/100\n",
            "32/32 [==============================] - 0s 3ms/step - loss: 0.4554 - mse: 0.1412 - val_loss: 0.4281 - val_mse: 0.1278\n",
            "Epoch 38/100\n",
            "32/32 [==============================] - 0s 2ms/step - loss: 0.4394 - mse: 0.1345 - val_loss: 0.4200 - val_mse: 0.1247\n",
            "Epoch 39/100\n",
            "32/32 [==============================] - 0s 2ms/step - loss: 0.4253 - mse: 0.1287 - val_loss: 0.4128 - val_mse: 0.1220\n",
            "Epoch 40/100\n",
            "32/32 [==============================] - 0s 3ms/step - loss: 0.4282 - mse: 0.1312 - val_loss: 0.4054 - val_mse: 0.1192\n",
            "Epoch 41/100\n",
            "32/32 [==============================] - 0s 3ms/step - loss: 0.4165 - mse: 0.1266 - val_loss: 0.3978 - val_mse: 0.1164\n",
            "Epoch 42/100\n",
            "32/32 [==============================] - 0s 3ms/step - loss: 0.4127 - mse: 0.1249 - val_loss: 0.3912 - val_mse: 0.1140\n",
            "Epoch 43/100\n",
            "32/32 [==============================] - 0s 3ms/step - loss: 0.4014 - mse: 0.1211 - val_loss: 0.3848 - val_mse: 0.1118\n",
            "Epoch 44/100\n",
            "32/32 [==============================] - 0s 3ms/step - loss: 0.4019 - mse: 0.1216 - val_loss: 0.3787 - val_mse: 0.1096\n",
            "Epoch 45/100\n",
            "32/32 [==============================] - 0s 2ms/step - loss: 0.3886 - mse: 0.1169 - val_loss: 0.3745 - val_mse: 0.1083\n",
            "Epoch 46/100\n",
            "32/32 [==============================] - 0s 2ms/step - loss: 0.3829 - mse: 0.1147 - val_loss: 0.3674 - val_mse: 0.1057\n",
            "Epoch 47/100\n",
            "32/32 [==============================] - 0s 2ms/step - loss: 0.3909 - mse: 0.1182 - val_loss: 0.3625 - val_mse: 0.1040\n",
            "Epoch 48/100\n",
            "32/32 [==============================] - 0s 2ms/step - loss: 0.3586 - mse: 0.1051 - val_loss: 0.3576 - val_mse: 0.1024\n",
            "Epoch 49/100\n",
            "32/32 [==============================] - 0s 3ms/step - loss: 0.3641 - mse: 0.1084 - val_loss: 0.3529 - val_mse: 0.1009\n",
            "Epoch 50/100\n",
            "32/32 [==============================] - 0s 3ms/step - loss: 0.3516 - mse: 0.1035 - val_loss: 0.3489 - val_mse: 0.0995\n",
            "Epoch 51/100\n",
            "32/32 [==============================] - 0s 2ms/step - loss: 0.3456 - mse: 0.1026 - val_loss: 0.3444 - val_mse: 0.0980\n",
            "Epoch 52/100\n",
            "32/32 [==============================] - 0s 2ms/step - loss: 0.3469 - mse: 0.1030 - val_loss: 0.3404 - val_mse: 0.0968\n",
            "Epoch 53/100\n",
            "32/32 [==============================] - 0s 2ms/step - loss: 0.3561 - mse: 0.1068 - val_loss: 0.3376 - val_mse: 0.0958\n",
            "Epoch 54/100\n",
            "32/32 [==============================] - 0s 2ms/step - loss: 0.3716 - mse: 0.1128 - val_loss: 0.3335 - val_mse: 0.0945\n",
            "Epoch 55/100\n",
            "32/32 [==============================] - 0s 2ms/step - loss: 0.3402 - mse: 0.1010 - val_loss: 0.3302 - val_mse: 0.0935\n",
            "Epoch 56/100\n",
            "32/32 [==============================] - 0s 2ms/step - loss: 0.3420 - mse: 0.1018 - val_loss: 0.3282 - val_mse: 0.0928\n",
            "Epoch 57/100\n",
            "32/32 [==============================] - 0s 2ms/step - loss: 0.3401 - mse: 0.1018 - val_loss: 0.3272 - val_mse: 0.0926\n",
            "Epoch 58/100\n",
            "32/32 [==============================] - 0s 2ms/step - loss: 0.3701 - mse: 0.1140 - val_loss: 0.3235 - val_mse: 0.0914\n",
            "Epoch 59/100\n",
            "32/32 [==============================] - 0s 2ms/step - loss: 0.3359 - mse: 0.0999 - val_loss: 0.3209 - val_mse: 0.0905\n",
            "Epoch 60/100\n",
            "32/32 [==============================] - 0s 2ms/step - loss: 0.3596 - mse: 0.1105 - val_loss: 0.3174 - val_mse: 0.0894\n",
            "Epoch 61/100\n",
            "32/32 [==============================] - 0s 2ms/step - loss: 0.3322 - mse: 0.0996 - val_loss: 0.3152 - val_mse: 0.0886\n",
            "Epoch 62/100\n",
            "32/32 [==============================] - 0s 2ms/step - loss: 0.3362 - mse: 0.1024 - val_loss: 0.3135 - val_mse: 0.0881\n",
            "Epoch 63/100\n",
            "32/32 [==============================] - 0s 3ms/step - loss: 0.3508 - mse: 0.1085 - val_loss: 0.3106 - val_mse: 0.0872\n",
            "Epoch 64/100\n",
            "32/32 [==============================] - 0s 2ms/step - loss: 0.3268 - mse: 0.0987 - val_loss: 0.3112 - val_mse: 0.0874\n",
            "Epoch 65/100\n",
            "32/32 [==============================] - 0s 2ms/step - loss: 0.3319 - mse: 0.1012 - val_loss: 0.3089 - val_mse: 0.0867\n",
            "Epoch 66/100\n",
            "32/32 [==============================] - 0s 2ms/step - loss: 0.3019 - mse: 0.0902 - val_loss: 0.3087 - val_mse: 0.0867\n",
            "Epoch 67/100\n",
            "32/32 [==============================] - 0s 2ms/step - loss: 0.2929 - mse: 0.0860 - val_loss: 0.3025 - val_mse: 0.0846\n",
            "Epoch 68/100\n",
            "32/32 [==============================] - 0s 2ms/step - loss: 0.3044 - mse: 0.0893 - val_loss: 0.3057 - val_mse: 0.0857\n",
            "Epoch 69/100\n",
            "32/32 [==============================] - 0s 3ms/step - loss: 0.3158 - mse: 0.0951 - val_loss: 0.3046 - val_mse: 0.0853\n",
            "Epoch 70/100\n",
            "32/32 [==============================] - 0s 2ms/step - loss: 0.3256 - mse: 0.0995 - val_loss: 0.2980 - val_mse: 0.0831\n",
            "Epoch 71/100\n",
            "32/32 [==============================] - 0s 2ms/step - loss: 0.2992 - mse: 0.0886 - val_loss: 0.3004 - val_mse: 0.0839\n",
            "Epoch 72/100\n",
            "32/32 [==============================] - 0s 2ms/step - loss: 0.3190 - mse: 0.0982 - val_loss: 0.2986 - val_mse: 0.0833\n",
            "Epoch 73/100\n",
            "32/32 [==============================] - 0s 2ms/step - loss: 0.2950 - mse: 0.0875 - val_loss: 0.2965 - val_mse: 0.0826\n",
            "Epoch 74/100\n",
            "32/32 [==============================] - 0s 2ms/step - loss: 0.3108 - mse: 0.0941 - val_loss: 0.2935 - val_mse: 0.0816\n",
            "Epoch 75/100\n",
            "32/32 [==============================] - 0s 2ms/step - loss: 0.3091 - mse: 0.0939 - val_loss: 0.2919 - val_mse: 0.0811\n",
            "Epoch 76/100\n",
            "32/32 [==============================] - 0s 2ms/step - loss: 0.3257 - mse: 0.1004 - val_loss: 0.2929 - val_mse: 0.0814\n",
            "Epoch 77/100\n",
            "32/32 [==============================] - 0s 2ms/step - loss: 0.3042 - mse: 0.0920 - val_loss: 0.2954 - val_mse: 0.0822\n",
            "Epoch 78/100\n",
            "32/32 [==============================] - 0s 2ms/step - loss: 0.2953 - mse: 0.0889 - val_loss: 0.2901 - val_mse: 0.0804\n",
            "Epoch 79/100\n",
            "32/32 [==============================] - 0s 2ms/step - loss: 0.3105 - mse: 0.0967 - val_loss: 0.2921 - val_mse: 0.0811\n",
            "Epoch 80/100\n",
            "32/32 [==============================] - 0s 2ms/step - loss: 0.2835 - mse: 0.0846 - val_loss: 0.2895 - val_mse: 0.0802\n",
            "Epoch 81/100\n",
            "32/32 [==============================] - 0s 2ms/step - loss: 0.3129 - mse: 0.0954 - val_loss: 0.2925 - val_mse: 0.0812\n",
            "Epoch 82/100\n",
            "32/32 [==============================] - 0s 3ms/step - loss: 0.3028 - mse: 0.0908 - val_loss: 0.2875 - val_mse: 0.0795\n",
            "Epoch 83/100\n",
            "32/32 [==============================] - 0s 3ms/step - loss: 0.2849 - mse: 0.0847 - val_loss: 0.2865 - val_mse: 0.0792\n",
            "Epoch 84/100\n",
            "32/32 [==============================] - 0s 3ms/step - loss: 0.3091 - mse: 0.0948 - val_loss: 0.2929 - val_mse: 0.0813\n",
            "Epoch 85/100\n",
            "32/32 [==============================] - 0s 3ms/step - loss: 0.2971 - mse: 0.0899 - val_loss: 0.2845 - val_mse: 0.0785\n",
            "Epoch 86/100\n",
            "32/32 [==============================] - 0s 3ms/step - loss: 0.2865 - mse: 0.0864 - val_loss: 0.2831 - val_mse: 0.0780\n",
            "Epoch 87/100\n",
            "32/32 [==============================] - 0s 3ms/step - loss: 0.2963 - mse: 0.0897 - val_loss: 0.2844 - val_mse: 0.0784\n",
            "Epoch 88/100\n",
            "32/32 [==============================] - 0s 3ms/step - loss: 0.2993 - mse: 0.0920 - val_loss: 0.2831 - val_mse: 0.0780\n",
            "Epoch 89/100\n",
            "32/32 [==============================] - 0s 3ms/step - loss: 0.2942 - mse: 0.0893 - val_loss: 0.2860 - val_mse: 0.0789\n",
            "Epoch 90/100\n",
            "32/32 [==============================] - 0s 3ms/step - loss: 0.3253 - mse: 0.1025 - val_loss: 0.2842 - val_mse: 0.0783\n",
            "Epoch 91/100\n",
            "32/32 [==============================] - 0s 3ms/step - loss: 0.2909 - mse: 0.0891 - val_loss: 0.2845 - val_mse: 0.0783\n",
            "Epoch 92/100\n",
            "32/32 [==============================] - 0s 3ms/step - loss: 0.2810 - mse: 0.0851 - val_loss: 0.2817 - val_mse: 0.0774\n",
            "Epoch 93/100\n",
            "32/32 [==============================] - 0s 3ms/step - loss: 0.2798 - mse: 0.0856 - val_loss: 0.2810 - val_mse: 0.0772\n",
            "Epoch 94/100\n",
            "32/32 [==============================] - 0s 2ms/step - loss: 0.2917 - mse: 0.0904 - val_loss: 0.2777 - val_mse: 0.0762\n",
            "Epoch 95/100\n",
            "32/32 [==============================] - 0s 3ms/step - loss: 0.2784 - mse: 0.0853 - val_loss: 0.2785 - val_mse: 0.0763\n",
            "Epoch 96/100\n",
            "32/32 [==============================] - 0s 3ms/step - loss: 0.2605 - mse: 0.0787 - val_loss: 0.2787 - val_mse: 0.0764\n",
            "Epoch 97/100\n",
            "32/32 [==============================] - 0s 2ms/step - loss: 0.2776 - mse: 0.0841 - val_loss: 0.2766 - val_mse: 0.0757\n",
            "Epoch 98/100\n",
            "32/32 [==============================] - 0s 3ms/step - loss: 0.2901 - mse: 0.0886 - val_loss: 0.2793 - val_mse: 0.0765\n",
            "Epoch 99/100\n",
            "32/32 [==============================] - 0s 3ms/step - loss: 0.2782 - mse: 0.0853 - val_loss: 0.2792 - val_mse: 0.0764\n",
            "Epoch 100/100\n",
            "32/32 [==============================] - 0s 2ms/step - loss: 0.2948 - mse: 0.0904 - val_loss: 0.2762 - val_mse: 0.0755\n"
          ],
          "name": "stdout"
        }
      ]
    },
    {
      "cell_type": "code",
      "metadata": {
        "colab": {
          "base_uri": "https://localhost:8080/"
        },
        "id": "ykuW3vTJFXvn",
        "outputId": "860c661a-bd63-4583-c7dc-8e50c881d187"
      },
      "source": [
        "model.evaluate(X_test, Y_test)[1]"
      ],
      "execution_count": 52,
      "outputs": [
        {
          "output_type": "stream",
          "text": [
            "7/7 [==============================] - 0s 2ms/step - loss: 0.2476 - mse: 0.0732\n"
          ],
          "name": "stdout"
        },
        {
          "output_type": "execute_result",
          "data": {
            "text/plain": [
              "0.07317137718200684"
            ]
          },
          "metadata": {
            "tags": []
          },
          "execution_count": 52
        }
      ]
    },
    {
      "cell_type": "code",
      "metadata": {
        "id": "uvqftkoOFhMU"
      },
      "source": [
        "import matplotlib.pyplot as plt"
      ],
      "execution_count": 53,
      "outputs": []
    },
    {
      "cell_type": "code",
      "metadata": {
        "colab": {
          "base_uri": "https://localhost:8080/",
          "height": 295
        },
        "id": "NAxKPAu4Fjqg",
        "outputId": "7bccb09c-e788-48a1-bc2b-4c46d5a59246"
      },
      "source": [
        "plt.plot(hist.history['loss'])\r\n",
        "plt.plot(hist.history['val_loss'])\r\n",
        "plt.title('Model loss')\r\n",
        "plt.ylabel('Loss')\r\n",
        "plt.xlabel('Epoch')\r\n",
        "plt.legend(['Train', 'Val'], loc='upper right')\r\n",
        "plt.show()"
      ],
      "execution_count": 54,
      "outputs": [
        {
          "output_type": "display_data",
          "data": {
            "image/png": "[encoded data removed]",
            "text/plain": [
              "<Figure size 432x288 with 1 Axes>"
            ]
          },
          "metadata": {
            "tags": [],
            "needs_background": "light"
          }
        }
      ]
    },
    {
      "cell_type": "code",
      "metadata": {
        "colab": {
          "base_uri": "https://localhost:8080/",
          "height": 295
        },
        "id": "fafjx5hTQF6j",
        "outputId": "9b7a3115-39e5-420b-d9c3-a3c031d94e57"
      },
      "source": [
        "plt.plot(hist.history['mse'])\r\n",
        "plt.plot(hist.history['val_mse'])\r\n",
        "plt.title('Model accuracy')\r\n",
        "plt.ylabel('Accuracy')\r\n",
        "plt.xlabel('Epoch')\r\n",
        "plt.legend(['Train', 'Val'], loc='lower right')\r\n",
        "plt.show()"
      ],
      "execution_count": 72,
      "outputs": [
        {
          "output_type": "display_data",
          "data": {
            "image/png": "[encoded data removed]",
            "text/plain": [
              "<Figure size 432x288 with 1 Axes>"
            ]
          },
          "metadata": {
            "tags": [],
            "needs_background": "light"
          }
        }
      ]
    },
    {
      "cell_type": "code",
      "metadata": {
        "id": "HhtlrqiGGgqq"
      },
      "source": [
        "model_2 = Sequential([\r\n",
        "    Dense(1000, activation='relu', input_shape=(10,)),\r\n",
        "    Dense(1000, activation='relu'),\r\n",
        "    Dense(1000, activation='relu'),\r\n",
        "    Dense(1000, activation='relu'),\r\n",
        "    Dense(1, activation='sigmoid'),\r\n",
        "])"
      ],
      "execution_count": 62,
      "outputs": []
    },
    {
      "cell_type": "code",
      "metadata": {
        "id": "93aOsh8wNB86"
      },
      "source": [
        "model_2.compile(optimizer='adam',\r\n",
        "              loss='binary_crossentropy',\r\n",
        "              metrics=['mse'])"
      ],
      "execution_count": 63,
      "outputs": []
    },
    {
      "cell_type": "code",
      "metadata": {
        "colab": {
          "base_uri": "https://localhost:8080/"
        },
        "id": "BivqQwgfNEFX",
        "outputId": "919748de-3386-4749-84d0-22d1bbaf2af8"
      },
      "source": [
        "hist_2 = model_2.fit(X_train, Y_train,\r\n",
        "          batch_size=32, epochs=100,\r\n",
        "          validation_data=(X_val, Y_val))"
      ],
      "execution_count": 64,
      "outputs": [
        {
          "output_type": "stream",
          "text": [
            "Epoch 1/100\n",
            "32/32 [==============================] - 2s 43ms/step - loss: 0.5590 - mse: 0.1883 - val_loss: 0.3818 - val_mse: 0.1108\n",
            "Epoch 2/100\n",
            "32/32 [==============================] - 1s 42ms/step - loss: 0.3684 - mse: 0.1103 - val_loss: 0.3442 - val_mse: 0.0991\n",
            "Epoch 3/100\n",
            "32/32 [==============================] - 1s 43ms/step - loss: 0.3090 - mse: 0.0914 - val_loss: 0.2897 - val_mse: 0.0799\n",
            "Epoch 4/100\n",
            "32/32 [==============================] - 1s 40ms/step - loss: 0.3099 - mse: 0.0938 - val_loss: 0.3238 - val_mse: 0.0841\n",
            "Epoch 5/100\n",
            "32/32 [==============================] - 1s 41ms/step - loss: 0.2768 - mse: 0.0840 - val_loss: 0.2982 - val_mse: 0.0743\n",
            "Epoch 6/100\n",
            "32/32 [==============================] - 1s 43ms/step - loss: 0.2551 - mse: 0.0790 - val_loss: 0.3192 - val_mse: 0.0811\n",
            "Epoch 7/100\n",
            "32/32 [==============================] - 1s 43ms/step - loss: 0.2934 - mse: 0.0868 - val_loss: 0.3037 - val_mse: 0.0719\n",
            "Epoch 8/100\n",
            "32/32 [==============================] - 1s 45ms/step - loss: 0.2466 - mse: 0.0727 - val_loss: 0.2891 - val_mse: 0.0681\n",
            "Epoch 9/100\n",
            "32/32 [==============================] - 1s 43ms/step - loss: 0.2246 - mse: 0.0701 - val_loss: 0.3133 - val_mse: 0.0733\n",
            "Epoch 10/100\n",
            "32/32 [==============================] - 1s 43ms/step - loss: 0.2138 - mse: 0.0652 - val_loss: 0.2940 - val_mse: 0.0709\n",
            "Epoch 11/100\n",
            "32/32 [==============================] - 1s 46ms/step - loss: 0.2298 - mse: 0.0695 - val_loss: 0.3199 - val_mse: 0.0731\n",
            "Epoch 12/100\n",
            "32/32 [==============================] - 1s 44ms/step - loss: 0.2313 - mse: 0.0658 - val_loss: 0.3121 - val_mse: 0.0665\n",
            "Epoch 13/100\n",
            "32/32 [==============================] - 1s 46ms/step - loss: 0.2328 - mse: 0.0722 - val_loss: 0.2920 - val_mse: 0.0696\n",
            "Epoch 14/100\n",
            "32/32 [==============================] - 1s 47ms/step - loss: 0.2302 - mse: 0.0664 - val_loss: 0.3177 - val_mse: 0.0707\n",
            "Epoch 15/100\n",
            "32/32 [==============================] - 1s 45ms/step - loss: 0.2312 - mse: 0.0707 - val_loss: 0.3342 - val_mse: 0.0709\n",
            "Epoch 16/100\n",
            "32/32 [==============================] - 1s 45ms/step - loss: 0.2218 - mse: 0.0692 - val_loss: 0.3367 - val_mse: 0.0743\n",
            "Epoch 17/100\n",
            "32/32 [==============================] - 1s 44ms/step - loss: 0.2182 - mse: 0.0662 - val_loss: 0.3739 - val_mse: 0.0782\n",
            "Epoch 18/100\n",
            "32/32 [==============================] - 1s 43ms/step - loss: 0.2378 - mse: 0.0695 - val_loss: 0.3119 - val_mse: 0.0691\n",
            "Epoch 19/100\n",
            "32/32 [==============================] - 1s 45ms/step - loss: 0.2281 - mse: 0.0691 - val_loss: 0.3357 - val_mse: 0.0737\n",
            "Epoch 20/100\n",
            "32/32 [==============================] - 1s 46ms/step - loss: 0.2273 - mse: 0.0676 - val_loss: 0.3272 - val_mse: 0.0686\n",
            "Epoch 21/100\n",
            "32/32 [==============================] - 1s 45ms/step - loss: 0.2313 - mse: 0.0679 - val_loss: 0.3603 - val_mse: 0.0746\n",
            "Epoch 22/100\n",
            "32/32 [==============================] - 1s 45ms/step - loss: 0.2155 - mse: 0.0651 - val_loss: 0.3435 - val_mse: 0.0745\n",
            "Epoch 23/100\n",
            "32/32 [==============================] - 1s 45ms/step - loss: 0.2342 - mse: 0.0723 - val_loss: 0.3308 - val_mse: 0.0708\n",
            "Epoch 24/100\n",
            "32/32 [==============================] - 1s 43ms/step - loss: 0.2287 - mse: 0.0695 - val_loss: 0.3489 - val_mse: 0.0755\n",
            "Epoch 25/100\n",
            "32/32 [==============================] - 1s 46ms/step - loss: 0.2137 - mse: 0.0644 - val_loss: 0.3287 - val_mse: 0.0690\n",
            "Epoch 26/100\n",
            "32/32 [==============================] - 1s 46ms/step - loss: 0.2035 - mse: 0.0587 - val_loss: 0.3283 - val_mse: 0.0687\n",
            "Epoch 27/100\n",
            "32/32 [==============================] - 1s 36ms/step - loss: 0.1886 - mse: 0.0545 - val_loss: 0.3490 - val_mse: 0.0666\n",
            "Epoch 28/100\n",
            "32/32 [==============================] - 1s 38ms/step - loss: 0.2010 - mse: 0.0601 - val_loss: 0.3195 - val_mse: 0.0683\n",
            "Epoch 29/100\n",
            "32/32 [==============================] - 1s 45ms/step - loss: 0.1994 - mse: 0.0589 - val_loss: 0.3592 - val_mse: 0.0639\n",
            "Epoch 30/100\n",
            "32/32 [==============================] - 1s 45ms/step - loss: 0.2180 - mse: 0.0648 - val_loss: 0.3090 - val_mse: 0.0635\n",
            "Epoch 31/100\n",
            "32/32 [==============================] - 1s 43ms/step - loss: 0.2011 - mse: 0.0582 - val_loss: 0.3185 - val_mse: 0.0618\n",
            "Epoch 32/100\n",
            "32/32 [==============================] - 1s 43ms/step - loss: 0.2082 - mse: 0.0652 - val_loss: 0.3215 - val_mse: 0.0674\n",
            "Epoch 33/100\n",
            "32/32 [==============================] - 1s 35ms/step - loss: 0.2162 - mse: 0.0669 - val_loss: 0.3269 - val_mse: 0.0663\n",
            "Epoch 34/100\n",
            "32/32 [==============================] - 1s 44ms/step - loss: 0.1768 - mse: 0.0524 - val_loss: 0.2995 - val_mse: 0.0635\n",
            "Epoch 35/100\n",
            "32/32 [==============================] - 1s 45ms/step - loss: 0.1889 - mse: 0.0577 - val_loss: 0.3461 - val_mse: 0.0727\n",
            "Epoch 36/100\n",
            "32/32 [==============================] - 1s 44ms/step - loss: 0.1892 - mse: 0.0562 - val_loss: 0.3402 - val_mse: 0.0672\n",
            "Epoch 37/100\n",
            "32/32 [==============================] - 1s 44ms/step - loss: 0.1775 - mse: 0.0530 - val_loss: 0.3090 - val_mse: 0.0708\n",
            "Epoch 38/100\n",
            "32/32 [==============================] - 1s 43ms/step - loss: 0.1957 - mse: 0.0617 - val_loss: 0.3803 - val_mse: 0.0786\n",
            "Epoch 39/100\n",
            "32/32 [==============================] - 1s 44ms/step - loss: 0.2330 - mse: 0.0684 - val_loss: 0.3200 - val_mse: 0.0674\n",
            "Epoch 40/100\n",
            "32/32 [==============================] - 1s 42ms/step - loss: 0.1887 - mse: 0.0562 - val_loss: 0.3355 - val_mse: 0.0663\n",
            "Epoch 41/100\n",
            "32/32 [==============================] - 1s 43ms/step - loss: 0.1820 - mse: 0.0559 - val_loss: 0.3457 - val_mse: 0.0648\n",
            "Epoch 42/100\n",
            "32/32 [==============================] - 1s 36ms/step - loss: 0.1635 - mse: 0.0488 - val_loss: 0.3542 - val_mse: 0.0692\n",
            "Epoch 43/100\n",
            "32/32 [==============================] - 1s 36ms/step - loss: 0.1861 - mse: 0.0501 - val_loss: 0.3286 - val_mse: 0.0677\n",
            "Epoch 44/100\n",
            "32/32 [==============================] - 1s 43ms/step - loss: 0.1556 - mse: 0.0437 - val_loss: 0.4077 - val_mse: 0.0805\n",
            "Epoch 45/100\n",
            "32/32 [==============================] - 1s 44ms/step - loss: 0.1809 - mse: 0.0548 - val_loss: 0.4070 - val_mse: 0.0823\n",
            "Epoch 46/100\n",
            "32/32 [==============================] - 1s 35ms/step - loss: 0.2074 - mse: 0.0623 - val_loss: 0.3846 - val_mse: 0.0675\n",
            "Epoch 47/100\n",
            "32/32 [==============================] - 1s 43ms/step - loss: 0.1789 - mse: 0.0539 - val_loss: 0.3458 - val_mse: 0.0688\n",
            "Epoch 48/100\n",
            "32/32 [==============================] - 1s 38ms/step - loss: 0.1671 - mse: 0.0489 - val_loss: 0.3730 - val_mse: 0.0718\n",
            "Epoch 49/100\n",
            "32/32 [==============================] - 1s 42ms/step - loss: 0.1933 - mse: 0.0567 - val_loss: 0.3650 - val_mse: 0.0681\n",
            "Epoch 50/100\n",
            "32/32 [==============================] - 1s 45ms/step - loss: 0.1622 - mse: 0.0490 - val_loss: 0.3714 - val_mse: 0.0691\n",
            "Epoch 51/100\n",
            "32/32 [==============================] - 1s 45ms/step - loss: 0.1775 - mse: 0.0514 - val_loss: 0.4218 - val_mse: 0.0751\n",
            "Epoch 52/100\n",
            "32/32 [==============================] - 1s 46ms/step - loss: 0.1651 - mse: 0.0499 - val_loss: 0.3517 - val_mse: 0.0721\n",
            "Epoch 53/100\n",
            "32/32 [==============================] - 1s 45ms/step - loss: 0.1639 - mse: 0.0491 - val_loss: 0.3691 - val_mse: 0.0746\n",
            "Epoch 54/100\n",
            "32/32 [==============================] - 1s 46ms/step - loss: 0.1659 - mse: 0.0500 - val_loss: 0.3754 - val_mse: 0.0684\n",
            "Epoch 55/100\n",
            "32/32 [==============================] - 1s 46ms/step - loss: 0.1680 - mse: 0.0481 - val_loss: 0.4326 - val_mse: 0.0805\n",
            "Epoch 56/100\n",
            "32/32 [==============================] - 2s 48ms/step - loss: 0.1628 - mse: 0.0477 - val_loss: 0.3927 - val_mse: 0.0659\n",
            "Epoch 57/100\n",
            "32/32 [==============================] - 2s 49ms/step - loss: 0.2074 - mse: 0.0626 - val_loss: 0.3822 - val_mse: 0.0719\n",
            "Epoch 58/100\n",
            "32/32 [==============================] - 2s 48ms/step - loss: 0.1331 - mse: 0.0402 - val_loss: 0.3268 - val_mse: 0.0710\n",
            "Epoch 59/100\n",
            "32/32 [==============================] - 2s 47ms/step - loss: 0.1452 - mse: 0.0423 - val_loss: 0.3520 - val_mse: 0.0689\n",
            "Epoch 60/100\n",
            "32/32 [==============================] - 1s 47ms/step - loss: 0.1487 - mse: 0.0455 - val_loss: 0.3673 - val_mse: 0.0772\n",
            "Epoch 61/100\n",
            "32/32 [==============================] - 1s 46ms/step - loss: 0.1734 - mse: 0.0525 - val_loss: 0.4165 - val_mse: 0.0926\n",
            "Epoch 62/100\n",
            "32/32 [==============================] - 1s 47ms/step - loss: 0.1603 - mse: 0.0490 - val_loss: 0.3925 - val_mse: 0.0699\n",
            "Epoch 63/100\n",
            "32/32 [==============================] - 1s 45ms/step - loss: 0.1132 - mse: 0.0313 - val_loss: 0.3764 - val_mse: 0.0703\n",
            "Epoch 64/100\n",
            "32/32 [==============================] - 1s 45ms/step - loss: 0.1331 - mse: 0.0406 - val_loss: 0.3506 - val_mse: 0.0923\n",
            "Epoch 65/100\n",
            "32/32 [==============================] - 1s 46ms/step - loss: 0.2379 - mse: 0.0718 - val_loss: 0.3529 - val_mse: 0.0741\n",
            "Epoch 66/100\n",
            "32/32 [==============================] - 1s 44ms/step - loss: 0.1589 - mse: 0.0473 - val_loss: 0.3892 - val_mse: 0.0734\n",
            "Epoch 67/100\n",
            "32/32 [==============================] - 1s 42ms/step - loss: 0.1310 - mse: 0.0379 - val_loss: 0.3711 - val_mse: 0.0736\n",
            "Epoch 68/100\n",
            "32/32 [==============================] - 1s 43ms/step - loss: 0.1177 - mse: 0.0354 - val_loss: 0.3853 - val_mse: 0.0713\n",
            "Epoch 69/100\n",
            "32/32 [==============================] - 1s 44ms/step - loss: 0.1326 - mse: 0.0404 - val_loss: 0.3938 - val_mse: 0.0780\n",
            "Epoch 70/100\n",
            "32/32 [==============================] - 1s 44ms/step - loss: 0.1569 - mse: 0.0492 - val_loss: 0.4056 - val_mse: 0.0669\n",
            "Epoch 71/100\n",
            "32/32 [==============================] - 1s 44ms/step - loss: 0.1203 - mse: 0.0348 - val_loss: 0.3488 - val_mse: 0.0695\n",
            "Epoch 72/100\n",
            "32/32 [==============================] - 1s 44ms/step - loss: 0.1512 - mse: 0.0456 - val_loss: 0.3917 - val_mse: 0.0734\n",
            "Epoch 73/100\n",
            "32/32 [==============================] - 1s 44ms/step - loss: 0.1184 - mse: 0.0333 - val_loss: 0.3685 - val_mse: 0.0686\n",
            "Epoch 74/100\n",
            "32/32 [==============================] - 1s 44ms/step - loss: 0.1024 - mse: 0.0300 - val_loss: 0.3680 - val_mse: 0.0860\n",
            "Epoch 75/100\n",
            "32/32 [==============================] - 1s 43ms/step - loss: 0.1649 - mse: 0.0483 - val_loss: 0.4028 - val_mse: 0.0784\n",
            "Epoch 76/100\n",
            "32/32 [==============================] - 1s 44ms/step - loss: 0.1504 - mse: 0.0448 - val_loss: 0.3997 - val_mse: 0.0761\n",
            "Epoch 77/100\n",
            "32/32 [==============================] - 1s 42ms/step - loss: 0.1712 - mse: 0.0525 - val_loss: 0.3926 - val_mse: 0.0757\n",
            "Epoch 78/100\n",
            "32/32 [==============================] - 1s 38ms/step - loss: 0.1370 - mse: 0.0399 - val_loss: 0.3996 - val_mse: 0.0724\n",
            "Epoch 79/100\n",
            "32/32 [==============================] - 1s 41ms/step - loss: 0.1233 - mse: 0.0367 - val_loss: 0.3638 - val_mse: 0.0697\n",
            "Epoch 80/100\n",
            "32/32 [==============================] - 1s 44ms/step - loss: 0.1097 - mse: 0.0316 - val_loss: 0.3633 - val_mse: 0.0778\n",
            "Epoch 81/100\n",
            "32/32 [==============================] - 1s 42ms/step - loss: 0.1135 - mse: 0.0328 - val_loss: 0.4352 - val_mse: 0.0873\n",
            "Epoch 82/100\n",
            "32/32 [==============================] - 1s 43ms/step - loss: 0.1922 - mse: 0.0553 - val_loss: 0.4595 - val_mse: 0.0903\n",
            "Epoch 83/100\n",
            "32/32 [==============================] - 1s 44ms/step - loss: 0.1893 - mse: 0.0582 - val_loss: 0.3653 - val_mse: 0.0627\n",
            "Epoch 84/100\n",
            "32/32 [==============================] - 1s 44ms/step - loss: 0.1126 - mse: 0.0352 - val_loss: 0.3768 - val_mse: 0.0704\n",
            "Epoch 85/100\n",
            "32/32 [==============================] - 2s 47ms/step - loss: 0.0999 - mse: 0.0286 - val_loss: 0.3922 - val_mse: 0.0736\n",
            "Epoch 86/100\n",
            "32/32 [==============================] - 1s 45ms/step - loss: 0.1276 - mse: 0.0403 - val_loss: 0.4103 - val_mse: 0.0724\n",
            "Epoch 87/100\n",
            "32/32 [==============================] - 1s 46ms/step - loss: 0.1056 - mse: 0.0315 - val_loss: 0.4077 - val_mse: 0.0812\n",
            "Epoch 88/100\n",
            "32/32 [==============================] - 1s 46ms/step - loss: 0.1150 - mse: 0.0354 - val_loss: 0.3653 - val_mse: 0.0727\n",
            "Epoch 89/100\n",
            "32/32 [==============================] - 1s 44ms/step - loss: 0.1127 - mse: 0.0318 - val_loss: 0.4799 - val_mse: 0.0769\n",
            "Epoch 90/100\n",
            "32/32 [==============================] - 1s 45ms/step - loss: 0.1137 - mse: 0.0338 - val_loss: 0.4876 - val_mse: 0.0796\n",
            "Epoch 91/100\n",
            "32/32 [==============================] - 1s 46ms/step - loss: 0.1124 - mse: 0.0344 - val_loss: 0.5769 - val_mse: 0.0854\n",
            "Epoch 92/100\n",
            "32/32 [==============================] - 1s 46ms/step - loss: 0.1210 - mse: 0.0381 - val_loss: 0.4622 - val_mse: 0.0863\n",
            "Epoch 93/100\n",
            "32/32 [==============================] - 2s 47ms/step - loss: 0.1022 - mse: 0.0289 - val_loss: 0.4557 - val_mse: 0.0859\n",
            "Epoch 94/100\n",
            "32/32 [==============================] - 1s 42ms/step - loss: 0.1360 - mse: 0.0375 - val_loss: 0.3782 - val_mse: 0.0755\n",
            "Epoch 95/100\n",
            "32/32 [==============================] - 1s 46ms/step - loss: 0.1302 - mse: 0.0396 - val_loss: 0.4690 - val_mse: 0.0704\n",
            "Epoch 96/100\n",
            "32/32 [==============================] - 2s 48ms/step - loss: 0.1082 - mse: 0.0327 - val_loss: 0.5546 - val_mse: 0.0750\n",
            "Epoch 97/100\n",
            "32/32 [==============================] - 1s 46ms/step - loss: 0.1128 - mse: 0.0356 - val_loss: 0.5730 - val_mse: 0.0799\n",
            "Epoch 98/100\n",
            "32/32 [==============================] - 1s 46ms/step - loss: 0.1714 - mse: 0.0404 - val_loss: 0.3482 - val_mse: 0.0776\n",
            "Epoch 99/100\n",
            "32/32 [==============================] - 2s 48ms/step - loss: 0.1464 - mse: 0.0422 - val_loss: 0.4177 - val_mse: 0.0748\n",
            "Epoch 100/100\n",
            "32/32 [==============================] - 1s 46ms/step - loss: 0.0955 - mse: 0.0276 - val_loss: 0.4321 - val_mse: 0.0837\n"
          ],
          "name": "stdout"
        }
      ]
    },
    {
      "cell_type": "code",
      "metadata": {
        "colab": {
          "base_uri": "https://localhost:8080/",
          "height": 295
        },
        "id": "guzB-Dp1NICW",
        "outputId": "643a0259-eb4e-45c7-e567-fedc4ae7d818"
      },
      "source": [
        "plt.plot(hist_2.history['loss'])\r\n",
        "plt.plot(hist_2.history['val_loss'])\r\n",
        "plt.title('Model loss')\r\n",
        "plt.ylabel('Loss')\r\n",
        "plt.xlabel('Epoch')\r\n",
        "plt.legend(['Train', 'Val'], loc='upper right')\r\n",
        "plt.show()"
      ],
      "execution_count": 65,
      "outputs": [
        {
          "output_type": "display_data",
          "data": {
            "image/png": "[encoded data removed]",
            "text/plain": [
              "<Figure size 432x288 with 1 Axes>"
            ]
          },
          "metadata": {
            "tags": [],
            "needs_background": "light"
          }
        }
      ]
    },
    {
      "cell_type": "code",
      "metadata": {
        "colab": {
          "base_uri": "https://localhost:8080/",
          "height": 295
        },
        "id": "7cpbirslQZ3I",
        "outputId": "f2f4bd08-5559-409b-ff85-3b68946a4548"
      },
      "source": [
        "plt.plot(hist_2.history['mse'])\r\n",
        "plt.plot(hist_2.history['val_mse'])\r\n",
        "plt.title('Model accuracy')\r\n",
        "plt.ylabel('Accuracy')\r\n",
        "plt.xlabel('Epoch')\r\n",
        "plt.legend(['Train', 'Val'], loc='lower right')\r\n",
        "plt.show()"
      ],
      "execution_count": 73,
      "outputs": [
        {
          "output_type": "display_data",
          "data": {
            "image/png": "[encoded data removed]",
            "text/plain": [
              "<Figure size 432x288 with 1 Axes>"
            ]
          },
          "metadata": {
            "tags": [],
            "needs_background": "light"
          }
        }
      ]
    },
    {
      "cell_type": "code",
      "metadata": {
        "id": "D4EaE5nYN8Do"
      },
      "source": [
        "from keras.layers import Dropout\r\n",
        "from keras import regularizers"
      ],
      "execution_count": 67,
      "outputs": []
    },
    {
      "cell_type": "code",
      "metadata": {
        "id": "zxvxRImyOAcy"
      },
      "source": [
        "model_3 = Sequential([\r\n",
        "    Dense(1000, activation='relu', kernel_regularizer=regularizers.l2(0.01), input_shape=(10,)),\r\n",
        "    Dropout(0.3),\r\n",
        "    Dense(1000, activation='relu', kernel_regularizer=regularizers.l2(0.01)),\r\n",
        "    Dropout(0.3),\r\n",
        "    Dense(1000, activation='relu', kernel_regularizer=regularizers.l2(0.01)),\r\n",
        "    Dropout(0.3),\r\n",
        "    Dense(1000, activation='relu', kernel_regularizer=regularizers.l2(0.01)),\r\n",
        "    Dropout(0.3),\r\n",
        "    Dense(1, activation='sigmoid', kernel_regularizer=regularizers.l2(0.01)),\r\n",
        "])"
      ],
      "execution_count": 68,
      "outputs": []
    },
    {
      "cell_type": "code",
      "metadata": {
        "id": "8e0oYJ4KOGk5"
      },
      "source": [
        "model_3.compile(optimizer='adam',\r\n",
        "              loss='binary_crossentropy',\r\n",
        "              metrics=['mse'])"
      ],
      "execution_count": 69,
      "outputs": []
    },
    {
      "cell_type": "code",
      "metadata": {
        "colab": {
          "base_uri": "https://localhost:8080/"
        },
        "id": "10itch3EOHXx",
        "outputId": "48c90008-6a2b-4726-f5c6-8d7f6e2c7efd"
      },
      "source": [
        "hist_3 = model_3.fit(X_train, Y_train,\r\n",
        "          batch_size=32, epochs=100,\r\n",
        "          validation_data=(X_val, Y_val))"
      ],
      "execution_count": 70,
      "outputs": [
        {
          "output_type": "stream",
          "text": [
            "Epoch 1/100\n",
            "32/32 [==============================] - 3s 59ms/step - loss: 21.1114 - mse: 0.2470 - val_loss: 3.9046 - val_mse: 0.2127\n",
            "Epoch 2/100\n",
            "32/32 [==============================] - 2s 48ms/step - loss: 2.4961 - mse: 0.1789 - val_loss: 0.6180 - val_mse: 0.0877\n",
            "Epoch 3/100\n",
            "32/32 [==============================] - 2s 52ms/step - loss: 0.5775 - mse: 0.0999 - val_loss: 0.5179 - val_mse: 0.0915\n",
            "Epoch 4/100\n",
            "32/32 [==============================] - 2s 56ms/step - loss: 0.5460 - mse: 0.1126 - val_loss: 0.5184 - val_mse: 0.0945\n",
            "Epoch 5/100\n",
            "32/32 [==============================] - 2s 61ms/step - loss: 0.4972 - mse: 0.0968 - val_loss: 0.4541 - val_mse: 0.0774\n",
            "Epoch 6/100\n",
            "32/32 [==============================] - 2s 59ms/step - loss: 0.4728 - mse: 0.0920 - val_loss: 0.4759 - val_mse: 0.0865\n",
            "Epoch 7/100\n",
            "32/32 [==============================] - 2s 59ms/step - loss: 0.4798 - mse: 0.0926 - val_loss: 0.4511 - val_mse: 0.0793\n",
            "Epoch 8/100\n",
            "32/32 [==============================] - 2s 49ms/step - loss: 0.4739 - mse: 0.0937 - val_loss: 0.4899 - val_mse: 0.0921\n",
            "Epoch 9/100\n",
            "32/32 [==============================] - 2s 50ms/step - loss: 0.5093 - mse: 0.1075 - val_loss: 0.4465 - val_mse: 0.0781\n",
            "Epoch 10/100\n",
            "32/32 [==============================] - 2s 49ms/step - loss: 0.4362 - mse: 0.0797 - val_loss: 0.4679 - val_mse: 0.0908\n",
            "Epoch 11/100\n",
            "32/32 [==============================] - 2s 60ms/step - loss: 0.4427 - mse: 0.0862 - val_loss: 0.4324 - val_mse: 0.0743\n",
            "Epoch 12/100\n",
            "32/32 [==============================] - 2s 61ms/step - loss: 0.4564 - mse: 0.0886 - val_loss: 0.4287 - val_mse: 0.0718\n",
            "Epoch 13/100\n",
            "32/32 [==============================] - 2s 48ms/step - loss: 0.4583 - mse: 0.0907 - val_loss: 0.4674 - val_mse: 0.0898\n",
            "Epoch 14/100\n",
            "32/32 [==============================] - 2s 60ms/step - loss: 0.4936 - mse: 0.1061 - val_loss: 0.4312 - val_mse: 0.0751\n",
            "Epoch 15/100\n",
            "32/32 [==============================] - 2s 59ms/step - loss: 0.4793 - mse: 0.0987 - val_loss: 0.4254 - val_mse: 0.0736\n",
            "Epoch 16/100\n",
            "32/32 [==============================] - 2s 63ms/step - loss: 0.4546 - mse: 0.0887 - val_loss: 0.4448 - val_mse: 0.0779\n",
            "Epoch 17/100\n",
            "32/32 [==============================] - 2s 61ms/step - loss: 0.4652 - mse: 0.0930 - val_loss: 0.4256 - val_mse: 0.0725\n",
            "Epoch 18/100\n",
            "32/32 [==============================] - 2s 61ms/step - loss: 0.4544 - mse: 0.0905 - val_loss: 0.4299 - val_mse: 0.0745\n",
            "Epoch 19/100\n",
            "32/32 [==============================] - 2s 62ms/step - loss: 0.4476 - mse: 0.0888 - val_loss: 0.4294 - val_mse: 0.0742\n",
            "Epoch 20/100\n",
            "32/32 [==============================] - 2s 60ms/step - loss: 0.4468 - mse: 0.0882 - val_loss: 0.4242 - val_mse: 0.0735\n",
            "Epoch 21/100\n",
            "32/32 [==============================] - 2s 60ms/step - loss: 0.4572 - mse: 0.0940 - val_loss: 0.4237 - val_mse: 0.0715\n",
            "Epoch 22/100\n",
            "32/32 [==============================] - 2s 60ms/step - loss: 0.4398 - mse: 0.0847 - val_loss: 0.4268 - val_mse: 0.0725\n",
            "Epoch 23/100\n",
            "32/32 [==============================] - 2s 59ms/step - loss: 0.4569 - mse: 0.0933 - val_loss: 0.4747 - val_mse: 0.0892\n",
            "Epoch 24/100\n",
            "32/32 [==============================] - 2s 59ms/step - loss: 0.4661 - mse: 0.0955 - val_loss: 0.4534 - val_mse: 0.0807\n",
            "Epoch 25/100\n",
            "32/32 [==============================] - 2s 55ms/step - loss: 0.4394 - mse: 0.0864 - val_loss: 0.4226 - val_mse: 0.0723\n",
            "Epoch 26/100\n",
            "32/32 [==============================] - 2s 53ms/step - loss: 0.4490 - mse: 0.0896 - val_loss: 0.4211 - val_mse: 0.0712\n",
            "Epoch 27/100\n",
            "32/32 [==============================] - 2s 61ms/step - loss: 0.4433 - mse: 0.0853 - val_loss: 0.4280 - val_mse: 0.0739\n",
            "Epoch 28/100\n",
            "32/32 [==============================] - 2s 59ms/step - loss: 0.4343 - mse: 0.0847 - val_loss: 0.4350 - val_mse: 0.0772\n",
            "Epoch 29/100\n",
            "32/32 [==============================] - 2s 62ms/step - loss: 0.4551 - mse: 0.0921 - val_loss: 0.4435 - val_mse: 0.0777\n",
            "Epoch 30/100\n",
            "32/32 [==============================] - 2s 60ms/step - loss: 0.4417 - mse: 0.0853 - val_loss: 0.4513 - val_mse: 0.0815\n",
            "Epoch 31/100\n",
            "32/32 [==============================] - 2s 56ms/step - loss: 0.4450 - mse: 0.0889 - val_loss: 0.4611 - val_mse: 0.0882\n",
            "Epoch 32/100\n",
            "32/32 [==============================] - 2s 53ms/step - loss: 0.4539 - mse: 0.0912 - val_loss: 0.4381 - val_mse: 0.0763\n",
            "Epoch 33/100\n",
            "32/32 [==============================] - 2s 63ms/step - loss: 0.4707 - mse: 0.0980 - val_loss: 0.4223 - val_mse: 0.0701\n",
            "Epoch 34/100\n",
            "32/32 [==============================] - 2s 64ms/step - loss: 0.4432 - mse: 0.0893 - val_loss: 0.4203 - val_mse: 0.0714\n",
            "Epoch 35/100\n",
            "32/32 [==============================] - 2s 62ms/step - loss: 0.4614 - mse: 0.0963 - val_loss: 0.4750 - val_mse: 0.0844\n",
            "Epoch 36/100\n",
            "32/32 [==============================] - 2s 62ms/step - loss: 0.4469 - mse: 0.0879 - val_loss: 0.4201 - val_mse: 0.0721\n",
            "Epoch 37/100\n",
            "32/32 [==============================] - 2s 57ms/step - loss: 0.4337 - mse: 0.0837 - val_loss: 0.4211 - val_mse: 0.0725\n",
            "Epoch 38/100\n",
            "32/32 [==============================] - 2s 55ms/step - loss: 0.4658 - mse: 0.0960 - val_loss: 0.4274 - val_mse: 0.0755\n",
            "Epoch 39/100\n",
            "32/32 [==============================] - 2s 53ms/step - loss: 0.4191 - mse: 0.0801 - val_loss: 0.4284 - val_mse: 0.0724\n",
            "Epoch 40/100\n",
            "32/32 [==============================] - 2s 50ms/step - loss: 0.4368 - mse: 0.0870 - val_loss: 0.4312 - val_mse: 0.0725\n",
            "Epoch 41/100\n",
            "32/32 [==============================] - 2s 62ms/step - loss: 0.4790 - mse: 0.1005 - val_loss: 0.4177 - val_mse: 0.0711\n",
            "Epoch 42/100\n",
            "32/32 [==============================] - 2s 61ms/step - loss: 0.4536 - mse: 0.0913 - val_loss: 0.4231 - val_mse: 0.0729\n",
            "Epoch 43/100\n",
            "32/32 [==============================] - 2s 63ms/step - loss: 0.4587 - mse: 0.0941 - val_loss: 0.4205 - val_mse: 0.0733\n",
            "Epoch 44/100\n",
            "32/32 [==============================] - 2s 61ms/step - loss: 0.4307 - mse: 0.0858 - val_loss: 0.4190 - val_mse: 0.0718\n",
            "Epoch 45/100\n",
            "32/32 [==============================] - 2s 62ms/step - loss: 0.4600 - mse: 0.0954 - val_loss: 0.4186 - val_mse: 0.0721\n",
            "Epoch 46/100\n",
            "32/32 [==============================] - 2s 61ms/step - loss: 0.4442 - mse: 0.0905 - val_loss: 0.4467 - val_mse: 0.0824\n",
            "Epoch 47/100\n",
            "32/32 [==============================] - 2s 60ms/step - loss: 0.4572 - mse: 0.0919 - val_loss: 0.4624 - val_mse: 0.0860\n",
            "Epoch 48/100\n",
            "32/32 [==============================] - 2s 61ms/step - loss: 0.4639 - mse: 0.0973 - val_loss: 0.4285 - val_mse: 0.0779\n",
            "Epoch 49/100\n",
            "32/32 [==============================] - 2s 64ms/step - loss: 0.4704 - mse: 0.1007 - val_loss: 0.4251 - val_mse: 0.0736\n",
            "Epoch 50/100\n",
            "32/32 [==============================] - 2s 65ms/step - loss: 0.4659 - mse: 0.0973 - val_loss: 0.4173 - val_mse: 0.0701\n",
            "Epoch 51/100\n",
            "32/32 [==============================] - 2s 62ms/step - loss: 0.4579 - mse: 0.0949 - val_loss: 0.4979 - val_mse: 0.0968\n",
            "Epoch 52/100\n",
            "32/32 [==============================] - 2s 63ms/step - loss: 0.4717 - mse: 0.1018 - val_loss: 0.4743 - val_mse: 0.0884\n",
            "Epoch 53/100\n",
            "32/32 [==============================] - 2s 62ms/step - loss: 0.4330 - mse: 0.0845 - val_loss: 0.4437 - val_mse: 0.0805\n",
            "Epoch 54/100\n",
            "32/32 [==============================] - 2s 62ms/step - loss: 0.4291 - mse: 0.0851 - val_loss: 0.4158 - val_mse: 0.0719\n",
            "Epoch 55/100\n",
            "32/32 [==============================] - 2s 61ms/step - loss: 0.4419 - mse: 0.0891 - val_loss: 0.4230 - val_mse: 0.0755\n",
            "Epoch 56/100\n",
            "32/32 [==============================] - 2s 58ms/step - loss: 0.4737 - mse: 0.1030 - val_loss: 0.4153 - val_mse: 0.0717\n",
            "Epoch 57/100\n",
            "32/32 [==============================] - 2s 58ms/step - loss: 0.4601 - mse: 0.0959 - val_loss: 0.4182 - val_mse: 0.0717\n",
            "Epoch 58/100\n",
            "32/32 [==============================] - 2s 57ms/step - loss: 0.4582 - mse: 0.0934 - val_loss: 0.4187 - val_mse: 0.0709\n",
            "Epoch 59/100\n",
            "32/32 [==============================] - 2s 60ms/step - loss: 0.4602 - mse: 0.0954 - val_loss: 0.4207 - val_mse: 0.0716\n",
            "Epoch 60/100\n",
            "32/32 [==============================] - 2s 60ms/step - loss: 0.4298 - mse: 0.0843 - val_loss: 0.4498 - val_mse: 0.0857\n",
            "Epoch 61/100\n",
            "32/32 [==============================] - 2s 63ms/step - loss: 0.4641 - mse: 0.0966 - val_loss: 0.4214 - val_mse: 0.0730\n",
            "Epoch 62/100\n",
            "32/32 [==============================] - 2s 55ms/step - loss: 0.4224 - mse: 0.0831 - val_loss: 0.4188 - val_mse: 0.0725\n",
            "Epoch 63/100\n",
            "32/32 [==============================] - 2s 53ms/step - loss: 0.4597 - mse: 0.0955 - val_loss: 0.4221 - val_mse: 0.0724\n",
            "Epoch 64/100\n",
            "32/32 [==============================] - 2s 58ms/step - loss: 0.4498 - mse: 0.0928 - val_loss: 0.4541 - val_mse: 0.0801\n",
            "Epoch 65/100\n",
            "32/32 [==============================] - 2s 61ms/step - loss: 0.4458 - mse: 0.0881 - val_loss: 0.4201 - val_mse: 0.0733\n",
            "Epoch 66/100\n",
            "32/32 [==============================] - 2s 61ms/step - loss: 0.4592 - mse: 0.0956 - val_loss: 0.4214 - val_mse: 0.0726\n",
            "Epoch 67/100\n",
            "32/32 [==============================] - 2s 60ms/step - loss: 0.4362 - mse: 0.0874 - val_loss: 0.4787 - val_mse: 0.0908\n",
            "Epoch 68/100\n",
            "32/32 [==============================] - 2s 61ms/step - loss: 0.4728 - mse: 0.0980 - val_loss: 0.4271 - val_mse: 0.0739\n",
            "Epoch 69/100\n",
            "32/32 [==============================] - 2s 61ms/step - loss: 0.4367 - mse: 0.0885 - val_loss: 0.4160 - val_mse: 0.0711\n",
            "Epoch 70/100\n",
            "32/32 [==============================] - 2s 61ms/step - loss: 0.4299 - mse: 0.0833 - val_loss: 0.4192 - val_mse: 0.0725\n",
            "Epoch 71/100\n",
            "32/32 [==============================] - 2s 64ms/step - loss: 0.4336 - mse: 0.0863 - val_loss: 0.4573 - val_mse: 0.0838\n",
            "Epoch 72/100\n",
            "32/32 [==============================] - 2s 62ms/step - loss: 0.4665 - mse: 0.0978 - val_loss: 0.4358 - val_mse: 0.0813\n",
            "Epoch 73/100\n",
            "32/32 [==============================] - 2s 61ms/step - loss: 0.4654 - mse: 0.0980 - val_loss: 0.4154 - val_mse: 0.0696\n",
            "Epoch 74/100\n",
            "32/32 [==============================] - 2s 61ms/step - loss: 0.4092 - mse: 0.0765 - val_loss: 0.4507 - val_mse: 0.0875\n",
            "Epoch 75/100\n",
            "32/32 [==============================] - 2s 58ms/step - loss: 0.4782 - mse: 0.1031 - val_loss: 0.4272 - val_mse: 0.0741\n",
            "Epoch 76/100\n",
            "32/32 [==============================] - 2s 60ms/step - loss: 0.4352 - mse: 0.0840 - val_loss: 0.4219 - val_mse: 0.0741\n",
            "Epoch 77/100\n",
            "32/32 [==============================] - 2s 63ms/step - loss: 0.4489 - mse: 0.0932 - val_loss: 0.4325 - val_mse: 0.0766\n",
            "Epoch 78/100\n",
            "32/32 [==============================] - 2s 63ms/step - loss: 0.4307 - mse: 0.0864 - val_loss: 0.4505 - val_mse: 0.0820\n",
            "Epoch 79/100\n",
            "32/32 [==============================] - 2s 63ms/step - loss: 0.4596 - mse: 0.0974 - val_loss: 0.4500 - val_mse: 0.0790\n",
            "Epoch 80/100\n",
            "32/32 [==============================] - 2s 51ms/step - loss: 0.4327 - mse: 0.0853 - val_loss: 0.4219 - val_mse: 0.0742\n",
            "Epoch 81/100\n",
            "32/32 [==============================] - 2s 63ms/step - loss: 0.4873 - mse: 0.1076 - val_loss: 0.4263 - val_mse: 0.0742\n",
            "Epoch 82/100\n",
            "32/32 [==============================] - 2s 60ms/step - loss: 0.4295 - mse: 0.0834 - val_loss: 0.4188 - val_mse: 0.0737\n",
            "Epoch 83/100\n",
            "32/32 [==============================] - 2s 59ms/step - loss: 0.4299 - mse: 0.0860 - val_loss: 0.4205 - val_mse: 0.0747\n",
            "Epoch 84/100\n",
            "32/32 [==============================] - 1s 45ms/step - loss: 0.4364 - mse: 0.0885 - val_loss: 0.4515 - val_mse: 0.0812\n",
            "Epoch 85/100\n",
            "32/32 [==============================] - 1s 44ms/step - loss: 0.4104 - mse: 0.0760 - val_loss: 0.4436 - val_mse: 0.0847\n",
            "Epoch 86/100\n",
            "32/32 [==============================] - 1s 44ms/step - loss: 0.4887 - mse: 0.1060 - val_loss: 0.4162 - val_mse: 0.0706\n",
            "Epoch 87/100\n",
            "32/32 [==============================] - 2s 49ms/step - loss: 0.4160 - mse: 0.0804 - val_loss: 0.4182 - val_mse: 0.0718\n",
            "Epoch 88/100\n",
            "32/32 [==============================] - 2s 60ms/step - loss: 0.4512 - mse: 0.0947 - val_loss: 0.4336 - val_mse: 0.0790\n",
            "Epoch 89/100\n",
            "32/32 [==============================] - 2s 60ms/step - loss: 0.4661 - mse: 0.0977 - val_loss: 0.4456 - val_mse: 0.0793\n",
            "Epoch 90/100\n",
            "32/32 [==============================] - 2s 61ms/step - loss: 0.4698 - mse: 0.0982 - val_loss: 0.4211 - val_mse: 0.0716\n",
            "Epoch 91/100\n",
            "32/32 [==============================] - 2s 62ms/step - loss: 0.4483 - mse: 0.0938 - val_loss: 0.4172 - val_mse: 0.0711\n",
            "Epoch 92/100\n",
            "32/32 [==============================] - 2s 62ms/step - loss: 0.4384 - mse: 0.0879 - val_loss: 0.4189 - val_mse: 0.0732\n",
            "Epoch 93/100\n",
            "32/32 [==============================] - 2s 63ms/step - loss: 0.4461 - mse: 0.0918 - val_loss: 0.4249 - val_mse: 0.0738\n",
            "Epoch 94/100\n",
            "32/32 [==============================] - 2s 64ms/step - loss: 0.4217 - mse: 0.0817 - val_loss: 0.4490 - val_mse: 0.0829\n",
            "Epoch 95/100\n",
            "32/32 [==============================] - 2s 53ms/step - loss: 0.4387 - mse: 0.0894 - val_loss: 0.4174 - val_mse: 0.0716\n",
            "Epoch 96/100\n",
            "32/32 [==============================] - 2s 64ms/step - loss: 0.4423 - mse: 0.0897 - val_loss: 0.4172 - val_mse: 0.0719\n",
            "Epoch 97/100\n",
            "32/32 [==============================] - 2s 69ms/step - loss: 0.4037 - mse: 0.0769 - val_loss: 0.4244 - val_mse: 0.0757\n",
            "Epoch 98/100\n",
            "32/32 [==============================] - 2s 65ms/step - loss: 0.4192 - mse: 0.0813 - val_loss: 0.4444 - val_mse: 0.0806\n",
            "Epoch 99/100\n",
            "32/32 [==============================] - 2s 57ms/step - loss: 0.4294 - mse: 0.0844 - val_loss: 0.4233 - val_mse: 0.0747\n",
            "Epoch 100/100\n",
            "32/32 [==============================] - 2s 61ms/step - loss: 0.4177 - mse: 0.0828 - val_loss: 0.4324 - val_mse: 0.0794\n"
          ],
          "name": "stdout"
        }
      ]
    },
    {
      "cell_type": "code",
      "metadata": {
        "colab": {
          "base_uri": "https://localhost:8080/",
          "height": 295
        },
        "id": "QWwHg-esPlKi",
        "outputId": "e09180d1-b3b2-4461-a00d-2f801b4b644d"
      },
      "source": [
        "plt.plot(hist_3.history['loss'])\r\n",
        "plt.plot(hist_3.history['val_loss'])\r\n",
        "plt.title('Model loss')\r\n",
        "plt.ylabel('Loss')\r\n",
        "plt.xlabel('Epoch')\r\n",
        "plt.legend(['Train', 'Val'], loc='upper right')\r\n",
        "plt.ylim(top=1.2, bottom=0)\r\n",
        "plt.show()"
      ],
      "execution_count": 71,
      "outputs": [
        {
          "output_type": "display_data",
          "data": {
            "image/png": "[encoded data removed]",
            "text/plain": [
              "<Figure size 432x288 with 1 Axes>"
            ]
          },
          "metadata": {
            "tags": [],
            "needs_background": "light"
          }
        }
      ]
    },
    {
      "cell_type": "code",
      "metadata": {
        "colab": {
          "base_uri": "https://localhost:8080/",
          "height": 295
        },
        "id": "ccSoXdxvQdnW",
        "outputId": "2815cd62-16a3-4b63-ec0f-4587fff1f9d1"
      },
      "source": [
        "plt.plot(hist_3.history['mse'])\r\n",
        "plt.plot(hist_3.history['val_mse'])\r\n",
        "plt.title('Model accuracy')\r\n",
        "plt.ylabel('Accuracy')\r\n",
        "plt.xlabel('Epoch')\r\n",
        "plt.legend(['Train', 'Val'], loc='lower right')\r\n",
        "plt.show()"
      ],
      "execution_count": 74,
      "outputs": [
        {
          "output_type": "display_data",
          "data": {
            "image/png": "[encoded data removed]",
            "text/plain": [
              "<Figure size 432x288 with 1 Axes>"
            ]
          },
          "metadata": {
            "tags": [],
            "needs_background": "light"
          }
        }
      ]
    }
  ]
}