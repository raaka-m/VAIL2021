{
  "nbformat": 4,
  "nbformat_minor": 0,
  "metadata": {
    "colab": {
      "name": "Day 19 - Autoencoder",
      "provenance": []
    },
    "kernelspec": {
      "name": "python3",
      "display_name": "Python 3"
    }
  },
  "cells": [
    {
      "cell_type": "code",
      "metadata": {
        "id": "SJorM9xJQUUe"
      },
      "source": [
        "import keras\r\n",
        "from keras import layers\r\n",
        "\r\n",
        "# This is the size of our encoded representations\r\n",
        "encoding_dim = 32  # 32 floats -> compression of factor 24.5, assuming the input is 784 floats\r\n",
        "\r\n",
        "# This is our input image\r\n",
        "input_img = keras.Input(shape=(784,))\r\n",
        "# \"encoded\" is the encoded representation of the input\r\n",
        "encoded = layers.Dense(encoding_dim, activation='relu')(input_img)\r\n",
        "# \"decoded\" is the lossy reconstruction of the input\r\n",
        "decoded = layers.Dense(784, activation='sigmoid')(encoded)\r\n",
        "\r\n",
        "# This model maps an input to its reconstruction\r\n",
        "autoencoder = keras.Model(input_img, decoded)"
      ],
      "execution_count": 1,
      "outputs": []
    },
    {
      "cell_type": "code",
      "metadata": {
        "id": "UJ_92UUTQdhs"
      },
      "source": [
        "# This model maps an input to its encoded representation\r\n",
        "encoder = keras.Model(input_img, encoded)"
      ],
      "execution_count": 2,
      "outputs": []
    },
    {
      "cell_type": "code",
      "metadata": {
        "id": "5h8vAX3NQhHP"
      },
      "source": [
        "# This is our encoded (32-dimensional) input\r\n",
        "encoded_input = keras.Input(shape=(encoding_dim,))\r\n",
        "# Retrieve the last layer of the autoencoder model\r\n",
        "decoder_layer = autoencoder.layers[-1]\r\n",
        "# Create the decoder model\r\n",
        "decoder = keras.Model(encoded_input, decoder_layer(encoded_input))"
      ],
      "execution_count": 3,
      "outputs": []
    },
    {
      "cell_type": "code",
      "metadata": {
        "id": "--eoEo2lQj4C"
      },
      "source": [
        "autoencoder.compile(optimizer='adam', loss='binary_crossentropy')"
      ],
      "execution_count": 4,
      "outputs": []
    },
    {
      "cell_type": "code",
      "metadata": {
        "colab": {
          "base_uri": "https://localhost:8080/"
        },
        "id": "BfvdlJ3nQlZ6",
        "outputId": "7110cab2-608f-49bd-ca3a-e1361841066c"
      },
      "source": [
        "from keras.datasets import mnist\r\n",
        "import numpy as np\r\n",
        "(x_train, _), (x_test, _) = mnist.load_data()"
      ],
      "execution_count": 5,
      "outputs": [
        {
          "output_type": "stream",
          "text": [
            "Downloading data from https://storage.googleapis.com/tensorflow/tf-keras-datasets/mnist.npz\n",
            "11493376/11490434 [==============================] - 0s 0us/step\n"
          ],
          "name": "stdout"
        }
      ]
    },
    {
      "cell_type": "code",
      "metadata": {
        "colab": {
          "base_uri": "https://localhost:8080/"
        },
        "id": "LLHtimqkQpE9",
        "outputId": "d81e84a6-7aac-4cba-b298-8d3d0b46539f"
      },
      "source": [
        "x_train = x_train.astype('float32') / 255.\r\n",
        "x_test = x_test.astype('float32') / 255.\r\n",
        "x_train = x_train.reshape((len(x_train), np.prod(x_train.shape[1:])))\r\n",
        "x_test = x_test.reshape((len(x_test), np.prod(x_test.shape[1:])))\r\n",
        "print(x_train.shape)\r\n",
        "print(x_test.shape)"
      ],
      "execution_count": 6,
      "outputs": [
        {
          "output_type": "stream",
          "text": [
            "(60000, 784)\n",
            "(10000, 784)\n"
          ],
          "name": "stdout"
        }
      ]
    },
    {
      "cell_type": "code",
      "metadata": {
        "colab": {
          "base_uri": "https://localhost:8080/"
        },
        "id": "rpALAKO9QsYY",
        "outputId": "733c3944-f7b7-4ec7-f78b-1381138f0816"
      },
      "source": [
        "autoencoder.fit(x_train, x_train,\r\n",
        "                epochs=50,\r\n",
        "                batch_size=256,\r\n",
        "                shuffle=True,\r\n",
        "                validation_data=(x_test, x_test))"
      ],
      "execution_count": 7,
      "outputs": [
        {
          "output_type": "stream",
          "text": [
            "Epoch 1/50\n",
            "235/235 [==============================] - 3s 11ms/step - loss: 0.3864 - val_loss: 0.1861\n",
            "Epoch 2/50\n",
            "235/235 [==============================] - 2s 9ms/step - loss: 0.1771 - val_loss: 0.1514\n",
            "Epoch 3/50\n",
            "235/235 [==============================] - 2s 8ms/step - loss: 0.1476 - val_loss: 0.1322\n",
            "Epoch 4/50\n",
            "235/235 [==============================] - 2s 9ms/step - loss: 0.1308 - val_loss: 0.1202\n",
            "Epoch 5/50\n",
            "235/235 [==============================] - 2s 9ms/step - loss: 0.1194 - val_loss: 0.1124\n",
            "Epoch 6/50\n",
            "235/235 [==============================] - 2s 9ms/step - loss: 0.1127 - val_loss: 0.1069\n",
            "Epoch 7/50\n",
            "235/235 [==============================] - 2s 9ms/step - loss: 0.1070 - val_loss: 0.1028\n",
            "Epoch 8/50\n",
            "235/235 [==============================] - 2s 9ms/step - loss: 0.1031 - val_loss: 0.0995\n",
            "Epoch 9/50\n",
            "235/235 [==============================] - 2s 9ms/step - loss: 0.1001 - val_loss: 0.0973\n",
            "Epoch 10/50\n",
            "235/235 [==============================] - 2s 9ms/step - loss: 0.0981 - val_loss: 0.0956\n",
            "Epoch 11/50\n",
            "235/235 [==============================] - 2s 8ms/step - loss: 0.0966 - val_loss: 0.0945\n",
            "Epoch 12/50\n",
            "235/235 [==============================] - 2s 9ms/step - loss: 0.0958 - val_loss: 0.0937\n",
            "Epoch 13/50\n",
            "235/235 [==============================] - 2s 9ms/step - loss: 0.0950 - val_loss: 0.0933\n",
            "Epoch 14/50\n",
            "235/235 [==============================] - 2s 9ms/step - loss: 0.0944 - val_loss: 0.0929\n",
            "Epoch 15/50\n",
            "235/235 [==============================] - 2s 9ms/step - loss: 0.0939 - val_loss: 0.0927\n",
            "Epoch 16/50\n",
            "235/235 [==============================] - 2s 9ms/step - loss: 0.0939 - val_loss: 0.0925\n",
            "Epoch 17/50\n",
            "235/235 [==============================] - 2s 9ms/step - loss: 0.0937 - val_loss: 0.0923\n",
            "Epoch 18/50\n",
            "235/235 [==============================] - 2s 9ms/step - loss: 0.0935 - val_loss: 0.0922\n",
            "Epoch 19/50\n",
            "235/235 [==============================] - 2s 9ms/step - loss: 0.0935 - val_loss: 0.0922\n",
            "Epoch 20/50\n",
            "235/235 [==============================] - 2s 8ms/step - loss: 0.0934 - val_loss: 0.0921\n",
            "Epoch 21/50\n",
            "235/235 [==============================] - 2s 9ms/step - loss: 0.0933 - val_loss: 0.0920\n",
            "Epoch 22/50\n",
            "235/235 [==============================] - 2s 9ms/step - loss: 0.0930 - val_loss: 0.0919\n",
            "Epoch 23/50\n",
            "235/235 [==============================] - 2s 9ms/step - loss: 0.0932 - val_loss: 0.0919\n",
            "Epoch 24/50\n",
            "235/235 [==============================] - 2s 9ms/step - loss: 0.0932 - val_loss: 0.0919\n",
            "Epoch 25/50\n",
            "235/235 [==============================] - 2s 9ms/step - loss: 0.0932 - val_loss: 0.0918\n",
            "Epoch 26/50\n",
            "235/235 [==============================] - 2s 9ms/step - loss: 0.0933 - val_loss: 0.0918\n",
            "Epoch 27/50\n",
            "235/235 [==============================] - 2s 8ms/step - loss: 0.0930 - val_loss: 0.0918\n",
            "Epoch 28/50\n",
            "235/235 [==============================] - 2s 9ms/step - loss: 0.0929 - val_loss: 0.0917\n",
            "Epoch 29/50\n",
            "235/235 [==============================] - 2s 9ms/step - loss: 0.0930 - val_loss: 0.0917\n",
            "Epoch 30/50\n",
            "235/235 [==============================] - 2s 9ms/step - loss: 0.0931 - val_loss: 0.0917\n",
            "Epoch 31/50\n",
            "235/235 [==============================] - 2s 9ms/step - loss: 0.0926 - val_loss: 0.0917\n",
            "Epoch 32/50\n",
            "235/235 [==============================] - 2s 9ms/step - loss: 0.0929 - val_loss: 0.0917\n",
            "Epoch 33/50\n",
            "235/235 [==============================] - 2s 9ms/step - loss: 0.0927 - val_loss: 0.0916\n",
            "Epoch 34/50\n",
            "235/235 [==============================] - 2s 9ms/step - loss: 0.0927 - val_loss: 0.0916\n",
            "Epoch 35/50\n",
            "235/235 [==============================] - 2s 8ms/step - loss: 0.0929 - val_loss: 0.0916\n",
            "Epoch 36/50\n",
            "235/235 [==============================] - 2s 9ms/step - loss: 0.0928 - val_loss: 0.0916\n",
            "Epoch 37/50\n",
            "235/235 [==============================] - 2s 9ms/step - loss: 0.0928 - val_loss: 0.0916\n",
            "Epoch 38/50\n",
            "235/235 [==============================] - 2s 9ms/step - loss: 0.0927 - val_loss: 0.0915\n",
            "Epoch 39/50\n",
            "235/235 [==============================] - 2s 9ms/step - loss: 0.0926 - val_loss: 0.0915\n",
            "Epoch 40/50\n",
            "235/235 [==============================] - 2s 9ms/step - loss: 0.0928 - val_loss: 0.0915\n",
            "Epoch 41/50\n",
            "235/235 [==============================] - 2s 9ms/step - loss: 0.0926 - val_loss: 0.0915\n",
            "Epoch 42/50\n",
            "235/235 [==============================] - 2s 8ms/step - loss: 0.0928 - val_loss: 0.0915\n",
            "Epoch 43/50\n",
            "235/235 [==============================] - 2s 9ms/step - loss: 0.0927 - val_loss: 0.0916\n",
            "Epoch 44/50\n",
            "235/235 [==============================] - 2s 9ms/step - loss: 0.0928 - val_loss: 0.0915\n",
            "Epoch 45/50\n",
            "235/235 [==============================] - 2s 8ms/step - loss: 0.0927 - val_loss: 0.0914\n",
            "Epoch 46/50\n",
            "235/235 [==============================] - 2s 9ms/step - loss: 0.0926 - val_loss: 0.0915\n",
            "Epoch 47/50\n",
            "235/235 [==============================] - 2s 9ms/step - loss: 0.0924 - val_loss: 0.0914\n",
            "Epoch 48/50\n",
            "235/235 [==============================] - 2s 9ms/step - loss: 0.0927 - val_loss: 0.0914\n",
            "Epoch 49/50\n",
            "235/235 [==============================] - 2s 9ms/step - loss: 0.0925 - val_loss: 0.0914\n",
            "Epoch 50/50\n",
            "235/235 [==============================] - 2s 8ms/step - loss: 0.0926 - val_loss: 0.0914\n"
          ],
          "name": "stdout"
        },
        {
          "output_type": "execute_result",
          "data": {
            "text/plain": [
              "<tensorflow.python.keras.callbacks.History at 0x7f9cac58a290>"
            ]
          },
          "metadata": {
            "tags": []
          },
          "execution_count": 7
        }
      ]
    },
    {
      "cell_type": "code",
      "metadata": {
        "id": "tf03m3WaQwjm"
      },
      "source": [
        "# Encode and decode some digits\r\n",
        "# Note that we take them from the *test* set\r\n",
        "encoded_imgs = encoder.predict(x_test)\r\n",
        "decoded_imgs = decoder.predict(encoded_imgs)"
      ],
      "execution_count": 8,
      "outputs": []
    },
    {
      "cell_type": "code",
      "metadata": {
        "colab": {
          "base_uri": "https://localhost:8080/",
          "height": 248
        },
        "id": "EZl6YaYHQ0az",
        "outputId": "207d4c91-d94e-4079-b227-65b9e833e1af"
      },
      "source": [
        "# Use Matplotlib (don't ask)\r\n",
        "import matplotlib.pyplot as plt\r\n",
        "\r\n",
        "n = 10  # How many digits we will display\r\n",
        "plt.figure(figsize=(20, 4))\r\n",
        "for i in range(n):\r\n",
        "    # Display original\r\n",
        "    ax = plt.subplot(2, n, i + 1)\r\n",
        "    plt.imshow(x_test[i].reshape(28, 28))\r\n",
        "    plt.gray()\r\n",
        "    ax.get_xaxis().set_visible(False)\r\n",
        "    ax.get_yaxis().set_visible(False)\r\n",
        "\r\n",
        "    # Display reconstruction\r\n",
        "    ax = plt.subplot(2, n, i + 1 + n)\r\n",
        "    plt.imshow(decoded_imgs[i].reshape(28, 28))\r\n",
        "    plt.gray()\r\n",
        "    ax.get_xaxis().set_visible(False)\r\n",
        "    ax.get_yaxis().set_visible(False)\r\n",
        "plt.show()"
      ],
      "execution_count": 9,
      "outputs": [
        {
          "output_type": "display_data",
          "data": {
            "image/png": "[encoded data removed]",
            "text/plain": [
              "<Figure size 1440x288 with 20 Axes>"
            ]
          },
          "metadata": {
            "tags": [],
            "needs_background": "light"
          }
        }
      ]
    }
  ]
}