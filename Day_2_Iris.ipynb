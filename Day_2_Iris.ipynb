{
  "nbformat": 4,
  "nbformat_minor": 0,
  "metadata": {
    "colab": {
      "name": "Day 2 Iris",
      "provenance": []
    },
    "kernelspec": {
      "name": "python3",
      "display_name": "Python 3"
    }
  },
  "cells": [
    {
      "cell_type": "code",
      "metadata": {
        "colab": {
          "base_uri": "https://localhost:8080/",
          "height": 35
        },
        "id": "G11SBEhwInF5",
        "outputId": "e70ab4f2-a8b9-4621-95e5-ef3842e7771b"
      },
      "source": [
        "from sklearn.datasets import load_iris\r\n",
        "from sklearn import tree\r\n",
        "import graphviz \r\n",
        "\r\n",
        "# Load in our dataset\r\n",
        "iris_data = load_iris()\r\n",
        "\r\n",
        "# Initialize our decision tree object\r\n",
        "classification_tree = tree.DecisionTreeClassifier()\r\n",
        "\r\n",
        "# Train our decision tree (tree induction + pruning)\r\n",
        "classification_tree = classification_tree.fit(iris_data.data, iris_data.target)\r\n",
        "\r\n",
        "dot_data = tree.export_graphviz(classification_tree, out_file=None, \r\n",
        "                     feature_names=iris_data.feature_names,  \r\n",
        "                     class_names=iris_data.target_names,  \r\n",
        "                     filled=True, rounded=True,  \r\n",
        "                     special_characters=True)  \r\n",
        "graph = graphviz.Source(dot_data)  \r\n",
        "graph.render(\"iris\")"
      ],
      "execution_count": 5,
      "outputs": [
        {
          "output_type": "execute_result",
          "data": {
            "application/vnd.google.colaboratory.intrinsic+json": {
              "type": "string"
            },
            "text/plain": [
              "'iris.pdf'"
            ]
          },
          "metadata": {
            "tags": []
          },
          "execution_count": 5
        }
      ]
    }
  ]
}